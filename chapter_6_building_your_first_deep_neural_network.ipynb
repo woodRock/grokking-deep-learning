{
  "nbformat": 4,
  "nbformat_minor": 0,
  "metadata": {
    "colab": {
      "provenance": [],
      "authorship_tag": "ABX9TyMmDMoAZMonWaE1Ks80EfpA",
      "include_colab_link": true
    },
    "kernelspec": {
      "name": "python3",
      "display_name": "Python 3"
    },
    "language_info": {
      "name": "python"
    }
  },
  "cells": [
    {
      "cell_type": "markdown",
      "metadata": {
        "id": "view-in-github",
        "colab_type": "text"
      },
      "source": [
        "<a href=\"https://colab.research.google.com/github/woodRock/grokking-deep-learning/blob/main/chapter_6_building_your_first_deep_neural_network.ipynb\" target=\"_parent\"><img src=\"https://colab.research.google.com/assets/colab-badge.svg\" alt=\"Open In Colab\"/></a>"
      ]
    },
    {
      "cell_type": "code",
      "execution_count": 5,
      "metadata": {
        "colab": {
          "base_uri": "https://localhost:8080/"
        },
        "id": "lGFojE6v_Hql",
        "outputId": "e4f15793-176e-484e-e37b-f355e6620657"
      },
      "outputs": [
        {
          "output_type": "stream",
          "name": "stdout",
          "text": [
            "Error: 0.6342311598444467\n",
            "Error: 0.35838407676317513\n",
            "Error: 0.0830183113303298\n",
            "Error: 0.006467054957103705\n",
            "Error: 0.0003292669000750734\n",
            "Error: 1.5055622665134859e-05\n",
            "Final prediction: [array([[1.]]), array([[0.99830926]]), array([[0.00349242]]), array([[0.]])]\n"
          ]
        }
      ],
      "source": [
        "import numpy as np\n",
        "\n",
        "np.random.seed(1)\n",
        "\n",
        "def relu(x):\n",
        "    return (x > 0) * x\n",
        "\n",
        "def relu2deriv(output):\n",
        "    return output > 0\n",
        "\n",
        "dataset = \"traffic\"\n",
        "\n",
        "X, y = None, None\n",
        "\n",
        "if dataset == \"XOR\":\n",
        "    X = np.array([[0,0],\n",
        "              [0,1],\n",
        "              [1,0],\n",
        "              [1,1]])\n",
        "\n",
        "    y = np.array([[0,1,1,0]]).T\n",
        "elif dataset == \"traffic\":\n",
        "    X = np.array([[1,0,1],\n",
        "                [0,1,1],\n",
        "                [0,0,1],\n",
        "                [1,1,1]])\n",
        "\n",
        "    y = np.array([[1,1,0,0]]).T\n",
        "\n",
        "alpha = 0.2\n",
        "input_dim = X.shape[1]\n",
        "hidden_size = 4\n",
        "num_hidden = 0\n",
        "output_dim = y.shape[1]\n",
        "epochs = 60\n",
        "\n",
        "layers = []\n",
        "first = 2 * np.random.random((input_dim, hidden_size)) - 1\n",
        "second = 2 * np.random.random((hidden_size, output_dim)) - 1\n",
        "hidden = [(2 * np.random.random((hidden_size, hidden_size)) - 1) for _ in range(num_hidden)]\n",
        "layers.append(first)\n",
        "layers.extend(hidden)\n",
        "layers.append(second)\n",
        "\n",
        "predictions = None\n",
        "\n",
        "for iteration in range(epochs):\n",
        "    loss = 0\n",
        "    predictions = []\n",
        "    for i in range(len(X)):\n",
        "        layer = [0] * (len(layers) + 1)\n",
        "        input, target = X[i:i+1], y[i:i+1]\n",
        "\n",
        "        # Get the predictions.\n",
        "        for i, _ in enumerate(range(len(layer))):\n",
        "            if i == 0:\n",
        "                layer[i] = input\n",
        "            elif i == len(layer) - 1:\n",
        "                layer[i] = np.dot(layer[i-1], layers[i-1])\n",
        "            else:\n",
        "                layer[i] = relu(np.dot(layer[i-1], layers[i-1]))\n",
        "\n",
        "        prediction = layer[-1]\n",
        "        predictions.append(prediction)\n",
        "\n",
        "        loss += np.sum((prediction - target) ** 2)\n",
        "\n",
        "        # Calculate the deltas\n",
        "        deltas = [0] * (len(layers) + 1)\n",
        "        for i in reversed(range(len(deltas))):\n",
        "            if i == len(layer) - 1:\n",
        "                deltas[i] = (prediction - target)\n",
        "            else:\n",
        "                deltas[i] = deltas[i+1].dot(layers[i].T) * relu2deriv(layer[i])\n",
        "\n",
        "        # Update the weights.\n",
        "        for i in reversed(range(len(deltas) - 1)):\n",
        "            layers[i] -= alpha * layer[i].T.dot(deltas[i+1])\n",
        "\n",
        "    if (iteration % 10 == 9):\n",
        "        print(f\"Error: {loss}\")\n",
        "\n",
        "print(f\"Final prediction: {predictions}\")\n",
        "\n",
        "if dataset == \"traffic\":\n",
        "    # For the traffic light problem with 60 epochs of training.\n",
        "    assert loss == 1.5055622665134859e-05"
      ]
    }
  ]
}