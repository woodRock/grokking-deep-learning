{
  "nbformat": 4,
  "nbformat_minor": 0,
  "metadata": {
    "colab": {
      "provenance": [],
      "authorship_tag": "ABX9TyOyLK/lFNvkSXo8JTW1guU7",
      "include_colab_link": true
    },
    "kernelspec": {
      "name": "python3",
      "display_name": "Python 3"
    },
    "language_info": {
      "name": "python"
    },
    "gpuClass": "standard"
  },
  "cells": [
    {
      "cell_type": "markdown",
      "metadata": {
        "id": "view-in-github",
        "colab_type": "text"
      },
      "source": [
        "<a href=\"https://colab.research.google.com/github/woodRock/grokking-deep-learning/blob/main/chapter_5_generalizing_gradient_descent.ipynb\" target=\"_parent\"><img src=\"https://colab.research.google.com/assets/colab-badge.svg\" alt=\"Open In Colab\"/></a>"
      ]
    },
    {
      "cell_type": "markdown",
      "source": [
        "# Chapter 5 | Generalizaing Gradient Descent\n",
        "\n",
        "If you combine weights in a way that allows you to calculate an error function and a dela, gradient descent can show you how to move the weight combinations and error functions for which gradient descent is useful. "
      ],
      "metadata": {
        "id": "4XMgcl_TJ_L6"
      }
    },
    {
      "cell_type": "code",
      "execution_count": null,
      "metadata": {
        "id": "KzUfGSAYJxtm"
      },
      "outputs": [],
      "source": [
        "import numpy as np\n",
        "import matplotlib.pyplot as plt"
      ]
    },
    {
      "cell_type": "markdown",
      "source": [
        "# The Neuron | 1-0-1 ANN | A simple neural network\n",
        "\n",
        "Here is the basic gradient descent algorithm for a simple network. This can be generalized to work for multiple inputs, and this can be generalized to handle multiple inputs.\n",
        "\n",
        "For a 1-0-1 ANN the prediction is the product of the _input_ the network's single _weight_. This is analogous to neuron, with single input and output, and no hidden layers."
      ],
      "metadata": {
        "id": "HrVLK30MUi01"
      }
    },
    {
      "cell_type": "code",
      "source": [
        "input = 2 #@param {type: \"float\"} {allow-input: true}\n",
        "weight = 0.5 #@param {type: \"float\"} {allow-input: true}\n",
        "goal = 0.5 #@param {type: \"float\"} {allow-input: true}\n",
        "alpha = 0.001 #@param {type: \"float\"} {allow-input: true}\n",
        "epochs = 100\n",
        "\n",
        "def neural_network(weight, input, goal):\n",
        "    \"\"\" A simple 1-0-1 Aritificial Neural Network. \n",
        "\n",
        "    Args: \n",
        "        weight - the weight for the artificial neuron. \n",
        "        input - the input to the network. \n",
        "        output - the network output (or prediction). \n",
        "\n",
        "    Returns: \n",
        "        errors - the history of the networks errors (for plotting).\n",
        "    \"\"\"\n",
        "    errors = [] \n",
        "    for epoch in range(epochs):\n",
        "        # Prediction is product of input and weight.\n",
        "        pred = input * weight\n",
        "        # Square Error (SE) \n",
        "        error = (pred - goal) ** 2\n",
        "        # Pure error\n",
        "        delta = pred - goal \n",
        "        # Weight update delta is product of delta and input.\n",
        "        # Multiply the detla by the input for reversal, scaling and stopping.\n",
        "        weight_delta = delta * input \n",
        "        # Update weight by weight delta scaled by learning rate (alpha).\n",
        "        weight -= weight_delta * alpha\n",
        "\n",
        "        # Every 5 epochs, print the network state. \n",
        "        if epoch % 5 == 0: \n",
        "            print(f\"Weight: {weight} Pred: {pred} Error: {error}\")\n",
        "        errors.append(error) \n",
        "\n",
        "    return errors \n",
        "\n",
        "# Plot the error curve for the neural network.\n",
        "plt.title(\"Squared Error (SE)\")\n",
        "plt.xlabel(\"Epoch\")\n",
        "plt.ylabel(\"Error\")\n",
        "plt.plot(neural_network(weight, input, goal))"
      ],
      "metadata": {
        "colab": {
          "base_uri": "https://localhost:8080/",
          "height": 683
        },
        "id": "Rphnd3aZSOVx",
        "outputId": "85dad305-72d8-4ddf-a6e6-ffd9abb10de9"
      },
      "execution_count": 5,
      "outputs": [
        {
          "output_type": "stream",
          "name": "stdout",
          "text": [
            "Weight: 0.499 Pred: 1.0 Error: 0.25\n",
            "Weight: 0.49405968095846503 Pred: 0.990079680639488 Error: 0.2401780933757026\n",
            "Weight: 0.48921738100219975 Pred: 0.9803561867514051 Error: 0.23074206615035078\n",
            "Weight: 0.4844711553699455 Pred: 0.9708256131926617 Error: 0.22167675803824588\n",
            "Weight: 0.47981909788574933 Pred: 0.9614841323007015 Error: 0.21296760436533138\n",
            "Weight: 0.47525934019340654 Pred: 0.952327992356238 Error: 0.2046006126690249\n",
            "Weight: 0.47079005100609295 Pred: 0.9433535160764919 Error: 0.19656234021738814\n",
            "Weight: 0.4664094353708847 Pred: 0.9345570991383226 Error: 0.18883987241151395\n",
            "Weight: 0.4621157339478702 Pred: 0.925935208730663 Error: 0.1814208020364335\n",
            "Weight: 0.4579072223035656 Pred: 0.917484382135674 Error: 0.17429320932720543\n",
            "Weight: 0.4537822102183489 Pred: 0.90920122533805 Error: 0.1674456428181616\n",
            "Weight: 0.44973904100763495 Pred: 0.9010824116619176 Error: 0.16086710094453993\n",
            "Weight: 0.4457760908565187 Pred: 0.8931246804347766 Error: 0.15454701436694518\n",
            "Weight: 0.4418917681676201 Pred: 0.8853248356779521 Error: 0.14847522899024077\n",
            "Weight: 0.43808451292186784 Pred: 0.8776797448230278 Error: 0.14264198964958738\n",
            "Weight: 0.4343527960519653 Pred: 0.8701863374537456 Error: 0.13703792443741844\n",
            "Weight: 0.43069511882828765 Pred: 0.8628416040728668 Error: 0.13165402964617104\n",
            "Weight: 0.42711001225696305 Pred: 0.8556425948935001 Error: 0.12648165530258226\n",
            "Weight: 0.4235960364898965 Pred: 0.8485864186544106 Error: 0.12151249127030805\n",
            "Weight: 0.4201517802464988 Pred: 0.841670241458833 Error: 0.11673855389853721\n"
          ]
        },
        {
          "output_type": "execute_result",
          "data": {
            "text/plain": [
              "[<matplotlib.lines.Line2D at 0x7f8df3c115d0>]"
            ]
          },
          "metadata": {},
          "execution_count": 5
        },
        {
          "output_type": "display_data",
          "data": {
            "text/plain": [
              "<Figure size 432x288 with 1 Axes>"
            ],
            "image/png": "[encoded data removed]"
          },
          "metadata": {
            "needs_background": "light"
          }
        }
      ]
    },
    {
      "cell_type": "markdown",
      "source": [
        "## Mulitple inputs | A more complex neural network\n",
        "\n",
        "The _delta_ $\\Delta$ is a measure of how much higher or lower you want a node's value to be, to predict prefectly given the current training example. \n",
        "\n",
        "$ \\Delta = (\\hat{y} -y) $ \n",
        "\n",
        "The _delta weight_ $\\Delta w$ is a derived-based estimate of the direction and amount you should move a weight to reduce _delta_, accounting for scaling, negative reversal, and stopping.\n",
        "\n",
        "For a network with multiple inputs, the process is the same. Instead we can calculate a vector of weight detlas, you multiple them by the learning rate $\\alpha$ and substract them from the previous weights.\n",
        "\n",
        "$ w := w - \\alpha \\Delta w$"
      ],
      "metadata": {
        "id": "gRk4EO9-WrDA"
      }
    },
    {
      "cell_type": "code",
      "source": [
        "def neural_network(input, weights):\n",
        "    \"\"\" Neural network with multiple inputs, and a single output. \n",
        "\n",
        "    Here is a neural network with 3-0-1 architecture. That is 3 inputs, no hidden\n",
        "    layers, and 1 output layer. It returns the prediction given as the dot\n",
        "    product of the input and its weights. The dot product is another phrase for \n",
        "    the weighted sum of the input and its weights.\n",
        "    \n",
        "    Args: \n",
        "        input ([float]): The input to network. \n",
        "        weights ([float]): The parameters of the network. \n",
        "    \n",
        "    Returns:\n",
        "        prediction (float): The weighted sum (dot product) of the inputs and weights.\n",
        "    \"\"\"\n",
        "    n = len(input)\n",
        "    out = sum([i*w for i,w in zip(input,weights[:n])])\n",
        "    return out    \n",
        "\n",
        "def ele_mul(scalar, vector):\n",
        "    \"\"\" Elementwise multiplication of a scalar and a vector. \n",
        "\n",
        "    In this case, for a network with multiple inputs and single output. The scalar\n",
        "    is the pure error from the output layer, the vector is the inputs. \n",
        "\n",
        "    Any time you perform a mathematical operation between two vectors of equal length \n",
        "    where you pair up values acccording to their position in the vector \n",
        "    (i.e. position 0 with 0, position 1 with 1, etc), it's called an elementwise operation.\n",
        "\n",
        "    In this case, a scalar and vector are not of equal length. So we simply multiply \n",
        "    each element in the vector by the scalar. The output is a vector of equal length \n",
        "    to the input vector, scaled by a factor of the scalar.\n",
        "\n",
        "    Args: \n",
        "        scalar (float): A pure error when compared to output, a scalar.\n",
        "        vector ([float]): The input to the network, a vector.\n",
        "\n",
        "    Returns: \n",
        "        out ([float]): the weight deltas, the amount to update each weight by, a vector.\n",
        "    \"\"\"\n",
        "    out = [0,0,0]\n",
        "    n = len(out)\n",
        "    out = [v*scalar for v in vector]\n",
        "    return out \n",
        "\n",
        "# Learning rate for the network.\n",
        "alpha = 0.001 #@param {type: \"float\"} {allow-input: true}\n",
        "\n",
        "# Input \n",
        "# Average number of toes.\n",
        "toes = [8.5, 9.5, 9.9, 9.0]\n",
        "# Win-loss record.\n",
        "wlrec = [0.65, 0.8, 0.7, 0.9]\n",
        "# Number of fans.\n",
        "nfans = [1.2, 1.3, 0.5, 1.0]\n",
        "\n",
        "win_or_lose_binary = [1, 1, 0, 1]\n",
        "true = win_or_lose_binary[0]\n",
        "\n",
        "# Intial parameters for the neural network.\n",
        "weights = [0.1, 0.2, -0.1]\n",
        "# Input corresponds to every entry for the first game of the season.\n",
        "input = [toes[0], wlrec[0], nfans[0]]\n",
        "\n",
        "errors = []\n",
        "weight_deltas = []\n",
        "\n",
        "# Train the network over 50 training epochs.\n",
        "for i in range(50):\n",
        "    # Prediction is dot product of input and its weights.\n",
        "    pred = neural_network(input, weights)\n",
        "    # Squared Error (SE)\n",
        "    error = (pred - true) ** 2\n",
        "    errors.append(error)\n",
        "    # Pure error\n",
        "    delta = (pred - true)\n",
        "    # Calculate the weight update.\n",
        "    weight_delta = ele_mul(delta, input)\n",
        "    weight_deltas.append(weight_delta)\n",
        "    if i % 5 == 0:\n",
        "        print(f\"Iteration: {i}, pred: {pred}, error: {error}, delta: {delta}, weights: {weights}, weight_deltas:{weight_delta}\")\n",
        "    \n",
        "    # Apply the weight update. Adjust by weight_delta scaled by alpha. \n",
        "    weights = [w - alpha * dw for w,dw in zip(weights,weight_delta)]\n",
        "\n",
        "# Flip for plotting; Epochs as x-axis, error as y-axis.\n",
        "weight_deltas = np.array(weight_deltas).T\n",
        "\n",
        "# Plot the weight deltas for each of neural networks 3 weights.\n",
        "for i,w_d in enumerate(weight_deltas):\n",
        "    plt.plot(w_d, label=f\"w{i+1}\")\n",
        "plt.xlabel(\"Epochs\")\n",
        "plt.ylabel(\"Weight Delta\")\n",
        "plt.title(\"Weight Deltas\")\n",
        "plt.legend()\n",
        "plt.show()\n",
        "\n",
        "# Plot the global error curve for the network as a whole.\n",
        "plt.plot(errors, label=\"error\")\n",
        "plt.title('Squared Error (SE)')\n",
        "plt.xlabel(\"Epochs\")\n",
        "plt.ylabel(\"Error Delta\")\n",
        "plt.title(\"Error\")\n",
        "plt.legend()\n",
        "plt.show()"
      ],
      "metadata": {
        "colab": {
          "base_uri": "https://localhost:8080/",
          "height": 758
        },
        "id": "xM-TiVlgl_u2",
        "outputId": "d41c4940-9e30-46dc-c62e-73da35edb12e"
      },
      "execution_count": 10,
      "outputs": [
        {
          "output_type": "stream",
          "name": "stdout",
          "text": [
            "Iteration: 0, pred: 0.8600000000000001, error: 0.01959999999999997, delta: -0.1399999999999999, weights: [0.1, 0.2, -0.1], weight_deltas:[-1.189999999999999, -0.09099999999999994, -0.16799999999999987]\n",
            "Iteration: 5, pred: 0.9047381217162285, error: 0.009074825454152101, delta: -0.09526187828377153, weights: [0.105131037741109, 0.2003923734743201, -0.09927561820125519], weight_deltas:[-0.809725965412058, -0.061920220884451496, -0.11431425394052583]\n",
            "Iteration: 10, pred: 0.9351798181846276, error: 0.004201655970577936, delta: -0.06482018181537241, weights: [0.10862241126084446, 0.20065936086112338, -0.09878271841023371], weight_deltas:[-0.5509715454306655, -0.04213311817999207, -0.0777842181784469]\n",
            "Iteration: 15, pred: 0.9558936266398004, error: 0.0019453721709893272, delta: -0.044106373360199624, weights: [0.11099808839856033, 0.20084103028930164, -0.09844732869667382], weight_deltas:[-0.3749041735616968, -0.028669142684129758, -0.052927648032239545]\n",
            "Iteration: 20, pred: 0.969988171638729, error: 0.0009007098415863922, delta: -0.03001182836127103, weights: [0.11261459887237911, 0.20096464579612308, -0.09821911545331118], weight_deltas:[-0.25510054107080377, -0.01950768843482617, -0.03601419403352524]\n",
            "Iteration: 25, pred: 0.9795786918541084, error: 0.0004170298263894588, delta: -0.020421308145891603, weights: [0.11371454047238888, 0.2010487589773003, -0.09806382958036863], weight_deltas:[-0.17358111924007863, -0.013273850294829543, -0.024505569775069923]\n",
            "Iteration: 30, pred: 0.9861044844929334, error: 0.0001930853512071278, delta: -0.01389551550706658, weights: [0.1144629869210988, 0.20110599311749577, -0.09795816655231546], weight_deltas:[-0.11811188181006593, -0.009032085079593277, -0.016674618608479897]\n",
            "Iteration: 35, pred: 0.9905449078076826, error: 8.939876836522217e-05, delta: -0.009455092192317438, weights: [0.11497226131037681, 0.20114493762961705, -0.0978862689914762], weight_deltas:[-0.08036828363469822, -0.006145809925006335, -0.011346110630780925]\n",
            "Iteration: 40, pred: 0.9935663582743828, error: 4.139174585360296e-05, delta: -0.006433641725617223, weights: [0.11531879298812285, 0.20117143711085644, -0.097837346872265], weight_deltas:[-0.054685954667746395, -0.004181867121651195, -0.0077203700707406675]\n",
            "Iteration: 45, pred: 0.9956222800358063, error: 1.916443208489984e-05, delta: -0.0043777199641936715, weights: [0.11555458769174368, 0.20118946847054509, -0.09780405820822442], weight_deltas:[-0.03721061969564621, -0.0028455179767258865, -0.005253263957032406]\n"
          ]
        },
        {
          "output_type": "display_data",
          "data": {
            "text/plain": [
              "<Figure size 432x288 with 1 Axes>"
            ],
            "image/png": "[encoded data removed]"
          },
          "metadata": {
            "needs_background": "light"
          }
        },
        {
          "output_type": "display_data",
          "data": {
            "text/plain": [
              "<Figure size 432x288 with 1 Axes>"
            ],
            "image/png": "[encoded data removed]"
          },
          "metadata": {
            "needs_background": "light"
          }
        }
      ]
    },
    {
      "cell_type": "markdown",
      "source": [
        "We can make curves for each weight delta $\\Delta w$ to error $(\\hat{y} - y)^2$. Here we see that $w_1$ has the steepest curve, this is because it has the largest input (toes), a higher input value corresponds to a higher derivitive. The toes input has a larger impact than the win record and number of fans. \n",
        "\n",
        "More of the learning happens on the weight with the largest input. Normalization is a technique that counteracts this, and encourages learning across all weights. Note, the slope difference between weights meant a smaller learning rate $\\alpha = 0.001$ was required to prevent divergence. The network breaks with learning rate $\\alpha = 0.01$, it diverges, $w_1$ diverges."
      ],
      "metadata": {
        "id": "jVcz-WyUsNAm"
      }
    },
    {
      "cell_type": "markdown",
      "source": [
        "## Freezing Weights\n",
        "\n",
        "If we freeze the first weight $w_1$, and set learning rate $\\alpha=0.1$, the network can still converge on zero error, while only training two weights $w_1, w_2$. The error curve is ameasure of each individual weight relative to the global error. This error is shared across all weights, so when one weight finds the optima, all weights find it.\n",
        "\n",
        "If a network accidentally learns to predict the training data without $w_1$, then it will never learn to encorporate toes $i_1$ into its prediction. \n",
        "\n",
        "The goal of a neural network is to find the minima on the error plane. That is the optimal set of parameters $\\theta$ that give the lowest error. That error is determined entirely by the training data. "
      ],
      "metadata": {
        "id": "AQc0DLAOxafs"
      }
    },
    {
      "cell_type": "code",
      "source": [
        "def neural_network(input, weights):\n",
        "    \"\"\" Neural network with multiple inputs, and a single output. \n",
        "\n",
        "    Here is a neural network with 3-0-1 architecture. That is 3 inputs, no hidden\n",
        "    layers, and 1 output layer. It returns the prediction given as the dot\n",
        "    product of the input and its weights. The dot product is another phrase for \n",
        "    the weighted sum of the input and its weights.\n",
        "    \n",
        "    Args: \n",
        "        input ([float]): The input to network. \n",
        "        weights ([float]): The parameters of the network. \n",
        "    \n",
        "    Returns:\n",
        "        prediction (float): The weighted sum (dot product) of the inputs and weights.\n",
        "    \"\"\"\n",
        "    n = len(input)\n",
        "    out = sum([i*w for i,w in zip(input,weights[:n])])\n",
        "    return out    \n",
        "\n",
        "def ele_mul(scalar, vector):\n",
        "    \"\"\" Elementwise multiplication of a scalar and a vector. \n",
        "\n",
        "    In this case, for a network with multiple inputs and single output. The scalar\n",
        "    is the pure error from the output layer, the vector is the inputs. \n",
        "\n",
        "    Any time you perform a mathematical operation between two vectors of equal length \n",
        "    where you pair up values acccording to their position in the vector \n",
        "    (i.e. position 0 with 0, position 1 with 1, etc), it's called an elementwise operation.\n",
        "\n",
        "    In this case, a scalar and vector are not of equal length. So we simply multiply \n",
        "    each element in the vector by the scalar. The output is a vector of equal length \n",
        "    to the input vector, scaled by a factor of the scalar.\n",
        "\n",
        "    Args: \n",
        "        scalar (float): A pure error when compared to output, a scalar.\n",
        "        vector ([float]): The input to the network, a vector.\n",
        "\n",
        "    Returns: \n",
        "        out ([float]): the weight deltas, the amount to update each weight by, a vector.\n",
        "    \"\"\"\n",
        "    out = [0,0,0]\n",
        "    n = len(out)\n",
        "    out = [v*scalar for v in vector]\n",
        "    return out \n",
        "\n",
        "# Learning rate for the neural network.\n",
        "alpha = 0.001 #@param {type: \"float\"} {allow-input: true}\n",
        "\n",
        "# Inputs \n",
        "# Average number of toes\n",
        "toes = [8.5, 9.5, 9.9, 9.0]\n",
        "# Win-loss record as ratio. \n",
        "wlrec = [0.65, 0.8, 0.7, 0.9]\n",
        "# Number of fans\n",
        "nfans = [1.2, 1.3, 0.5, 1.0]\n",
        "\n",
        "win_or_lose_binary = [1, 1, 0, 1]\n",
        "true = win_or_lose_binary[0]\n",
        "\n",
        "# Intial parameters for the neural network.\n",
        "weights = [0.1, 0.2, -0.1]\n",
        "# Input corresponds to every entry for the first game of the season.\n",
        "input = [toes[0], wlrec[0], nfans[0]]\n",
        "\n",
        "errors = []\n",
        "weight_deltas = []\n",
        "\n",
        "# Train the network for 50 epochs to fit the first instance of the dataset.\n",
        "for i in range(50):\n",
        "    pred = neural_network(input, weights)\n",
        "    # Square error\n",
        "    error = (pred - true) ** 2\n",
        "    errors.append(error)\n",
        "    # Pure error \n",
        "    delta = (pred - true)\n",
        "    # Weight update (for 3-0-1 network).\n",
        "    weight_delta = ele_mul(delta, input)\n",
        "    # Freeze the first weight w1.\n",
        "    weight_delta[0] = 0 \n",
        "    weight_deltas.append(weight_delta)\n",
        "\n",
        "    if i % 5 == 0:\n",
        "        print(f\"Iteration: {i}, pred: {pred}, error: {error}, delta: {delta}, weights: {weights}, weight_deltas:{weight_delta}\")\n",
        "    weights = [w - alpha * dw for w,dw in zip(weights,weight_delta)]\n",
        "\n",
        "weight_deltas = np.array(weight_deltas).T\n",
        "for i,w_d in enumerate(weight_deltas):\n",
        "    plt.plot(w_d, label=f\"w{i+1}\")\n",
        "plt.xlabel(\"Epochs\")\n",
        "plt.ylabel(\"Error\")\n",
        "plt.title(\"Weight Deltas\")\n",
        "plt.legend()"
      ],
      "metadata": {
        "colab": {
          "base_uri": "https://localhost:8080/",
          "height": 486
        },
        "id": "cvxa16GTxfib",
        "outputId": "5619d3cf-30ef-4c2e-8b82-fe52d394736f"
      },
      "execution_count": null,
      "outputs": [
        {
          "output_type": "stream",
          "name": "stdout",
          "text": [
            "Iteration: 0, pred: 0.8600000000000001, error: 0.01959999999999997, delta: -0.1399999999999999, weights: [0.1, 0.2, -0.1], weight_deltas:[0, -0.09099999999999994, -0.16799999999999987]\n",
            "Iteration: 5, pred: 0.9500445306641994, error: 0.002495548916560118, delta: -0.04995546933580064, weights: [0.1, 0.23142493687609642, -0.04198473192105279], weight_deltas:[0, -0.032471055068270416, -0.05994656320296077]\n",
            "Iteration: 10, pred: 0.9821746505959991, error: 0.0003177430813747165, delta: -0.017825349404000934, weights: [0.1, 0.24263813309390575, -0.02128344659586636], weight_deltas:[0, -0.011586477112600607, -0.02139041928480112]\n",
            "Iteration: 15, pred: 0.9936394736032037, error: 4.045629604434246e-05, delta: -0.0063605263967962955, weights: [0.1, 0.24663927937829924, -0.013896714993909143], weight_deltas:[0, -0.004134342157917592, -0.007632631676155554]\n",
            "Iteration: 20, pred: 0.9977304065616093, error: 5.1510543755862416e-06, delta: -0.002269593438390727, weights: [0.1, 0.2480669875248569, -0.011260946107956561], weight_deltas:[0, -0.0014752357349539726, -0.002723512126068872]\n",
            "Iteration: 25, pred: 0.9991901528184554, error: 6.558524574558017e-07, delta: -0.0008098471815446429, weights: [0.1, 0.2485764291715414, -0.010320438452538988], weight_deltas:[0, -0.0005264006680040179, -0.0009718166178535714]\n",
            "Iteration: 30, pred: 0.9997110264568261, error: 8.350570865448966e-08, delta: -0.00028897354317392043, weights: [0.1, 0.24875821057553657, -0.009984842014394013], weight_deltas:[0, -0.0001878328030630483, -0.0003467682518087045]\n",
            "Iteration: 35, pred: 0.9998968870787509, error: 1.0632274528521722e-08, delta: -0.00010311292124909333, weights: [0.1, 0.2488230746852016, -0.009865092888858576], weight_deltas:[0, -6.702339881191066e-05, -0.000123735505498912]\n",
            "Iteration: 40, pred: 0.99996320675446, error: 1.353742917363541e-09, delta: -3.6793245539956665e-05, weights: [0.1, 0.24884621980692562, -0.009822363433368049], weight_deltas:[0, -2.3915609600971834e-05, -4.4151894647947994e-05]\n",
            "Iteration: 45, pred: 0.9999868712582191, error: 1.7236386075068796e-10, delta: -1.3128741780943365e-05, weights: [0.1, 0.24885447855991533, -0.009807116504771674], weight_deltas:[0, -8.533682157613187e-06, -1.5754490137132038e-05]\n"
          ]
        },
        {
          "output_type": "execute_result",
          "data": {
            "text/plain": [
              "<matplotlib.legend.Legend at 0x7f8df47ef690>"
            ]
          },
          "metadata": {},
          "execution_count": 4
        },
        {
          "output_type": "display_data",
          "data": {
            "text/plain": [
              "<Figure size 432x288 with 1 Axes>"
            ],
            "image/png": "[encoded data removed]"
          },
          "metadata": {
            "needs_background": "light"
          }
        }
      ]
    },
    {
      "cell_type": "markdown",
      "source": [
        "## Gradient Descent with Multiple Outputs\n",
        "\n",
        "Gradient descent can be extened to handle multiple outputs. Uou can calculate each _delta_ the same way would for an individual ouutput, and then multiply them all by the same input. This becomes each weights' _weight_delta_.\n",
        "\n",
        "In this example, instead of predicting a team win/loss, we also predict if they are happy or sad and the percentage of the team members who are hurt. These become the outputs, win-loss, % of team sad, % of team injured. This network takes a single input, the current win-loss record.\n",
        "\n",
        "As before _weight_detlas_ are computed by multipling the input node value with the output node _delta_ for each weight. In this caxe, the _weight_deta_s share the same input node and have unique output nodes (_deltas_)."
      ],
      "metadata": {
        "id": "6pHqf8Z06WMI"
      }
    },
    {
      "cell_type": "code",
      "source": [
        "def ele_mul(scalar, vector):\n",
        "    \"\"\" Elementwise multiplication of a scalar and a vector. \n",
        "\n",
        "    In this case, for a network with single input and multiple outputs. The scalar\n",
        "    is the input, a single element. The vector is the output, a multi-output prediction.\n",
        "\n",
        "    Any time you perform a mathematical operation between two vectors of equal length \n",
        "    where you pair up values acccording to their position in the vector \n",
        "    (i.e. position 0 with 0, position 1 with 1, etc), it's called an elementwise operation.\n",
        "\n",
        "    In this case, a scalar and vector are not of equal length. So we simply multiply \n",
        "    each element in the vector by the scalar. The output is a vector of equal length \n",
        "    to the input vector, scaled by a factor of the scalar.\n",
        "\n",
        "    Args: \n",
        "        scalar (float): The input is a scalar.\n",
        "        vector ([float]): The output is a vector.\n",
        "\n",
        "    Returns: \n",
        "        out ([float]): the scalar-vector elementwise multiplication, a vector.\n",
        "    \"\"\"\n",
        "    out = [v*scalar for v in vector]\n",
        "    return out\n",
        "\n",
        "def scalar_ele_mul(number, vector):\n",
        "    \"\"\"Scalar elementwise mulitpliccation of a scalar and a vector.\n",
        "    \n",
        "    Args: \n",
        "        number (float): the input is a scalar. \n",
        "        vector([float]): the paramters of the network are a vector. \n",
        "\n",
        "    Returns: \n",
        "        out ([float]): the scalar-vector elementwise multiplication, a vector.\n",
        "    \"\"\"\n",
        "    output = [number * v for v in vector]\n",
        "    return output \n",
        "\n",
        "def neural_network(input, weights):\n",
        "    \"\"\" The prediction is the elementwise multiplication between input and weights.\n",
        "\n",
        "    This is a neural network with single input, no hidden layers, and multiple outputs. \n",
        "\n",
        "    Args:\n",
        "        input (float): the input to the network is a vector. \n",
        "        weights ([float]): the parameters of the network. \n",
        "\n",
        "    Returns: \n",
        "        pred ([float]): the elementwise multiplication between the input and weights.\n",
        "    \"\"\"\n",
        "    pred = ele_mul(input, weights)\n",
        "    return pred \n",
        "\n",
        "# Learning rate for the network.\n",
        "alpha = 0.1 #@param {type: \"float\"} {allow-input: true}\n",
        "\n",
        "# The parameters for the network.\n",
        "weights = [0.3, 0.2, 0.9]\n",
        "\n",
        "# Input - the teams current win-loss record.\n",
        "wlrec = [0.6, 1.0, 1.0, 0.9]\n",
        "\n",
        "# Output\n",
        "# The percentage of team injured.\n",
        "hurt = [1.0, 0.0, 0.0, 0.1]\n",
        "# The win-loss record for the game.\n",
        "win = [1, 1, 0, 1]\n",
        "# The percentage of team sad. \n",
        "sad = [0.1, 0.0, 0.1, 0.2]\n",
        "\n",
        "# The network takes a single input, the current win-loss record.\n",
        "input = wlrec[0]\n",
        "# The desired output for the first prediction.\n",
        "true = [hurt[0], win[0], sad[0]]\n",
        "\n",
        "# The prediction is the elementwise multiplication of the input and weights.\n",
        "pred = neural_network(input, weights)\n",
        "\n",
        "error = [0, 0, 0]\n",
        "delta = [0, 0, 0]\n",
        "\n",
        "# Evaluate the error and pure error each output.\n",
        "# Calculate the loss function, loss for the first instance.\n",
        "for i in range(len(true)):\n",
        "    # Square error (SE)\n",
        "    error[i] = (pred[i] - true[i]) ** 2 \n",
        "    # Pure error\n",
        "    delta[i] = pred[i] - true[i]\n",
        "\n",
        "# Calculate the weight updates.\n",
        "weight_detlas = scalar_ele_mul(input, weights)\n",
        "\n",
        "# Apply the weight updates.\n",
        "for i in range(len(weights)):\n",
        "    weights[i] -= weight_deltas[i] * alpha\n",
        "\n",
        "print(f\"Weights: {weights}\")\n",
        "print(f\"Weight Deltas: {weight_deltas}\") "
      ],
      "metadata": {
        "colab": {
          "base_uri": "https://localhost:8080/"
        },
        "id": "Jn3GiO9g6bYl",
        "outputId": "cbb58031-c927-4ffd-d8aa-4e1c253b335c"
      },
      "execution_count": 11,
      "outputs": [
        {
          "output_type": "stream",
          "name": "stdout",
          "text": [
            "Weights: [array([0.419     , 0.41018061, 0.40201485, 0.39445428, 0.38745403,\n",
            "       0.3809726 , 0.37497151, 0.36941519, 0.36427066, 0.3595074 ,\n",
            "       0.35509715, 0.35101377, 0.34723301, 0.34373245, 0.34049133,\n",
            "       0.33749042, 0.33471191, 0.33213932, 0.3297574 , 0.327552  ,\n",
            "       0.32551005, 0.32361944, 0.32186894, 0.32024818, 0.31874754,\n",
            "       0.31735811, 0.31607166, 0.31488055, 0.31377771, 0.31275661,\n",
            "       0.31181119, 0.31093583, 0.31012535, 0.30937493, 0.30868013,\n",
            "       0.30803683, 0.3074412 , 0.30688971, 0.3063791 , 0.30590633,\n",
            "       0.3054686 , 0.3050633 , 0.30468805, 0.30434061, 0.30401891,\n",
            "       0.30372106, 0.30344528, 0.30318995, 0.30295353, 0.30273464]), array([0.2091    , 0.20842558, 0.20780114, 0.20722297, 0.20668766,\n",
            "       0.20619202, 0.20573312, 0.20530822, 0.20491481, 0.20455057,\n",
            "       0.20421331, 0.20390105, 0.20361194, 0.20334425, 0.2030964 ,\n",
            "       0.20286691, 0.20265444, 0.20245771, 0.20227557, 0.20210692,\n",
            "       0.20195077, 0.20180619, 0.20167233, 0.20154839, 0.20143364,\n",
            "       0.20132739, 0.20122901, 0.20113792, 0.20105359, 0.20097551,\n",
            "       0.20090321, 0.20083627, 0.20077429, 0.20071691, 0.20066378,\n",
            "       0.20061458, 0.20056903, 0.20052686, 0.20048781, 0.20045166,\n",
            "       0.20041819, 0.20038719, 0.2003585 , 0.20033193, 0.20030733,\n",
            "       0.20028455, 0.20026346, 0.20024394, 0.20022586, 0.20020912]), array([0.9168    , 0.91555491, 0.9144021 , 0.91333472, 0.91234645,\n",
            "       0.91143143, 0.91058421, 0.90979979, 0.9090735 , 0.90840104,\n",
            "       0.90777842, 0.90720194, 0.90666819, 0.90617399, 0.90571642,\n",
            "       0.90529276, 0.9049005 , 0.90453732, 0.90420104, 0.90388969,\n",
            "       0.90360142, 0.90333451, 0.90308738, 0.90285857, 0.90264671,\n",
            "       0.90245056, 0.90226894, 0.90210078, 0.90194509, 0.90180093,\n",
            "       0.90166746, 0.90154388, 0.90142946, 0.90132352, 0.90122543,\n",
            "       0.90113461, 0.90105052, 0.90097267, 0.90090058, 0.90083383,\n",
            "       0.90077204, 0.90071482, 0.90066184, 0.90061279, 0.90056738,\n",
            "       0.90052533, 0.90048639, 0.90045035, 0.90041697, 0.90038607])]\n",
            "Weight Deltas: [[-1.19       -1.10180612 -1.02014852 -0.94454276 -0.87454034 -0.80972597\n",
            "  -0.74971515 -0.69415189 -0.64270655 -0.59507396 -0.55097155 -0.51013767\n",
            "  -0.47233009 -0.43732453 -0.40491331 -0.37490417 -0.34711909 -0.32139322\n",
            "  -0.29757397 -0.27552002 -0.25510054 -0.2361944  -0.21868944 -0.20248182\n",
            "  -0.18747539 -0.17358112 -0.16071659 -0.14880548 -0.13777713 -0.12756613\n",
            "  -0.11811188 -0.10935831 -0.1012535  -0.09374935 -0.08680135 -0.08036828\n",
            "  -0.07441199 -0.06889713 -0.06379099 -0.05906328 -0.05468595 -0.05063304\n",
            "  -0.0468805  -0.04340607 -0.04018914 -0.03721062 -0.03445285 -0.03189946\n",
            "  -0.02953531 -0.02734638]\n",
            " [-0.091      -0.08425576 -0.07801136 -0.07222974 -0.06687661 -0.06192022\n",
            "  -0.05733116 -0.0530822  -0.04914815 -0.04550566 -0.04213312 -0.03901053\n",
            "  -0.03611936 -0.03344246 -0.03096396 -0.02866914 -0.0265444  -0.02457713\n",
            "  -0.02275566 -0.02106918 -0.01950769 -0.01806192 -0.01672331 -0.0154839\n",
            "  -0.01433635 -0.01327385 -0.01229009 -0.01137924 -0.0105359  -0.00975506\n",
            "  -0.00903209 -0.00836269 -0.00774291 -0.00716907 -0.00663775 -0.00614581\n",
            "  -0.00569033 -0.0052686  -0.00487813 -0.0045166  -0.00418187 -0.00387194\n",
            "  -0.00358498 -0.00331929 -0.00307329 -0.00284552 -0.00263463 -0.00243937\n",
            "  -0.00225858 -0.00209119]\n",
            " [-0.168      -0.1555491  -0.14402097 -0.13334721 -0.12346452 -0.11431425\n",
            "  -0.10584214 -0.09799791 -0.09073504 -0.08401044 -0.07778422 -0.07201944\n",
            "  -0.06668189 -0.06173993 -0.05716423 -0.05292765 -0.04900505 -0.04537316\n",
            "  -0.04201044 -0.03889694 -0.03601419 -0.03334509 -0.0308738  -0.02858567\n",
            "  -0.02646711 -0.02450557 -0.0226894  -0.02100783 -0.01945089 -0.01800934\n",
            "  -0.01667462 -0.01543882 -0.01429461 -0.0132352  -0.01225431 -0.01134611\n",
            "  -0.01050522 -0.00972665 -0.00900579 -0.00833835 -0.00772037 -0.00714819\n",
            "  -0.00661842 -0.00612792 -0.00567376 -0.00525326 -0.00486393 -0.00450345\n",
            "  -0.00416969 -0.00386066]]\n"
          ]
        }
      ]
    },
    {
      "cell_type": "markdown",
      "source": [
        "## Gradient Descent with Multiple Inputs and Outputs\n",
        "\n",
        "Here train a neural network architecture with mulitple inputs and multiple outputs over a single instance. The network makes prediction as a vector-matrix multplication between the input and weights. We calculate the weight update as the pure error between the network prediction and the desired output, multiplied by the input (for scaling, negative reversal, and stopping) scaled by the learning rate."
      ],
      "metadata": {
        "id": "4NGQ1XKy0KZl"
      }
    },
    {
      "cell_type": "code",
      "source": [
        "def w_sum(a,b):\n",
        "    \"\"\" This function performs a scalar, the weighted sum between two vectors.\n",
        "\n",
        "    You muyltiply each input by its respective weight and then sum all the local predictions together. \n",
        "    This is called the _weighted sum of th einput_ or a _weighted sum_ for short. \n",
        "    The _weighted sum_ is often referred to as the _dot product_ in deep learning.\n",
        "\n",
        "    Args: \n",
        "        a ([float]): the first term, a vector. \n",
        "        b ([float]): the second term, a vector.\n",
        "\n",
        "    Returns:\n",
        "        output (float): the weighted sum, a scalar.\n",
        "    \"\"\"\n",
        "    assert(len(a) == len(b))\n",
        "    output = sum([a*b for a,b in zip(a,b)])\n",
        "    return output\n",
        "\n",
        "def vect_mat_mul(vect, matrix):\n",
        "    \"\"\" \n",
        "    This function iterates through each row of weights (each row is a vector)\n",
        "    and makes a prediction using the w_sum function.\n",
        "\n",
        "    It is performing three weighted sums and then storing their predictions in\n",
        "    a vector called output.\n",
        "\n",
        "    Args: \n",
        "        vect ([float]): the first term, a vector. \n",
        "        matrix ([[float]]): the second term, a matrix.\n",
        "\n",
        "    Returns: \n",
        "        vector ([float]): a series of weighted sums, vector.\n",
        "    \"\"\"\n",
        "    assert(len(vect) == len(matrix))\n",
        "    output = [0,0,0]\n",
        "    for i in range(len(vect)):\n",
        "        output[i] = w_sum(vect,matrix[i]) \n",
        "    return output \n",
        "\n",
        "def outer_product(a,b):\n",
        "    \"\"\" Outer product - This function returns the weight update matrix. \n",
        "\n",
        "    We multiply the deltas by their corresponding elementwise input. \n",
        "    The deltas are the pure error for each output in the network. \n",
        "    The input tells us how much to scale the delta by. \n",
        "    \n",
        "    By taking the outer product, we find out how much each relative contribution of\n",
        "    each weight had to the pure error for each output node. Mulitplying the weights\n",
        "    by the input also performs scaling, negative reversal, and stopping. \n",
        "\n",
        "    Args:\n",
        "        a ([float]): An input vector. \n",
        "        b ([[float]]): The deltas matrix.\n",
        "\n",
        "    Returns: \n",
        "        out_product ([[float]]): The weight updates matrix. \n",
        "    \"\"\"\n",
        "    # Initialize weight update matrix as zeros. \n",
        "    out = np.zeros((len(a), len(b)))\n",
        "    # For each input. \n",
        "    for i in range(len(a)):\n",
        "        # For each output.\n",
        "        for j in range(len(b)):\n",
        "            # Product of delta (pure error) and respective input. \n",
        "            out[i][j] = a[i] * b[j]\n",
        "    return out\n",
        "\n",
        "def neural_network(input, weights):\n",
        "    \"\"\" The neural network with mutliple inputs and weights is a matrix multiplication.\n",
        "\n",
        "    For each output node, it calculates the dot product between the input and its weights.\n",
        "    The network returns A series of weighted susm (dot products) of the inputs and the weights\n",
        "    corresponding to each output node. \n",
        "    \n",
        "    Args:\n",
        "        input ([float]): the input to the network, a vector. \n",
        "        weights ([[float]]): the parameters of the network, a matrix. \n",
        "\n",
        "    Returns:\n",
        "        pred ([float]): A series of dot products of inputs and weights for each output.\n",
        "    \"\"\"\n",
        "    pred = vect_mat_mul(input,weights)\n",
        "    return pred \n",
        "\n",
        "# Learning rate for the network.\n",
        "alpha = 0.1 #@param {type: \"float\"} {allow-input: true}\n",
        "\n",
        "# The parameters for the network, a matrix.\n",
        "weights = [[0.1, 0.1, -0.3],\n",
        "           [0.1, 0.2, 0.0],\n",
        "           [0.0, 1.3, 0.1]]\n",
        "\n",
        "# Inputs, a vector.\n",
        "toes = [8.5, 9.5, 9.9, 9.0]\n",
        "wlrec = [0.65, 1.0, 1.0, 0.9]\n",
        "nfans = [1.2, 1.3, 0.5, 1.0]\n",
        "\n",
        "# Outputs, a vector.\n",
        "hurt = [0.1, 0.0, 0.0, 0.9]\n",
        "win = [1,1,0,1]\n",
        "sad = [0.1, 0.0, 0.1, 0.2]\n",
        "\n",
        "# First instance.\n",
        "input = [toes[0], wlrec[0], nfans[0]]\n",
        "true = [hurt[0], win[0], sad[0]]\n",
        "\n",
        "# Training epochs.\n",
        "epochs = 10\n",
        "pred = neural_network(input,weights)\n",
        "\n",
        "error = [0, 0, 0]\n",
        "delta = [0, 0, 0]\n",
        "\n",
        "# Calculate the square error and pure error for first instance.\n",
        "for i in range(len(true)):\n",
        "    error[i] = (pred[i] - true[i]) ** 2\n",
        "    delta[i] = pred[i] - true[i]\n",
        "\n",
        "# Calulcate the weight update.\n",
        "weight_deltas = outer_product(input,delta) \n",
        "\n",
        "# Apply the weight update.\n",
        "for i in range(len(weights)):\n",
        "    for j in range(len(weights[0])):\n",
        "        weights[i][j] -= alpha * weight_deltas[i][j]\n",
        "\n",
        "print(f\"Weights: {weights}\")\n",
        "print(f\"Weight Deltas: {weight_deltas}\") "
      ],
      "metadata": {
        "colab": {
          "base_uri": "https://localhost:8080/"
        },
        "id": "k5H-4ewW0KAC",
        "outputId": "f74105f6-789d-4d00-89ff-597ce437bb12"
      },
      "execution_count": 15,
      "outputs": [
        {
          "output_type": "stream",
          "name": "stdout",
          "text": [
            "Weights: [[0.09613250000000001, 0.10017000000000001, -0.3073525], [0.09970425000000001, 0.20001300000000002, -0.0005622500000000001], [-0.000546, 1.300024, 0.09896200000000001]]\n",
            "Weight Deltas: [[ 3.8675  -0.17     7.3525 ]\n",
            " [ 0.29575 -0.013    0.56225]\n",
            " [ 0.546   -0.024    1.038  ]]\n"
          ]
        }
      ]
    },
    {
      "cell_type": "markdown",
      "source": [
        "## Gradient Descent with Multiple Inputs and Outputs\n"
      ],
      "metadata": {
        "id": "pSfpA1JHj02r"
      }
    },
    {
      "cell_type": "code",
      "source": [
        "def w_sum(a,b):\n",
        "    \"\"\" The weighted sum of two vectors. \n",
        "    \n",
        "    The weighted sum of two vectors, a.k.a. the dot product.\n",
        "\n",
        "    Args: \n",
        "        a ([float]): first term, a vector. \n",
        "        b ([float]): second term, a vector.\n",
        "\n",
        "    Returns:\n",
        "        output (float): the weighted sum to two vectors. \n",
        "    \"\"\"\n",
        "    assert(len(a) == len(b))\n",
        "    output = sum([a*b for a,b in zip(a,b)])\n",
        "    return output\n",
        "\n",
        "def vect_mat_mul(vect, matrix):\n",
        "    \"\"\" Vector-matrix multiplication \n",
        "\n",
        "    This function iterates through each row of weights (each row is a vector)\n",
        "    and makes a prediction using the w_sum function.\n",
        "\n",
        "    It is performing three weighted sums and then storing their predictions in\n",
        "    a vector called output.\n",
        "\n",
        "    Args: \n",
        "        vect ([float]): the first term, a vector. \n",
        "        matrix ([[float]]): the second term, a matrix.\n",
        "\n",
        "    Returns: \n",
        "        vector ([float]): a series of weighted sums, vector.\n",
        "    \"\"\"\n",
        "    assert(len(vect) == len(matrix))\n",
        "    output = [0,0,0]\n",
        "    for i in range(len(vect)):\n",
        "        output[i] = w_sum(vect,matrix[i]) \n",
        "    return output \n",
        "\n",
        "def outer_product(a,b):\n",
        "    \"\"\" Outer product - This function returns the weight update matrix. \n",
        "\n",
        "    We multiply the deltas by their corresponding elementwise input. \n",
        "    The deltas are the pure error for each output in the network. \n",
        "    The input tells us how much to scale the delta by. \n",
        "    \n",
        "    By taking the outer product, we find out how much each relative contribution of\n",
        "    each weight had to the pure error for each output node. Mulitplying the weights\n",
        "    by the input also performs scaling, negative reversal, and stopping. \n",
        "\n",
        "    Args:\n",
        "        a ([float]): An input vector. \n",
        "        b ([[float]]): The deltas matrix.\n",
        "\n",
        "    Returns: \n",
        "        out_product ([[float]]): The weight updates matrix. \n",
        "    \"\"\"\n",
        "    out = np.zeros((len(a), len(b)))\n",
        "    for i in range(len(a)):\n",
        "        for j in range(len(b)):\n",
        "            out[i][j] = a[i] * b[j]\n",
        "    return out\n",
        "\n",
        "def neural_network(input, weights):\n",
        "    \"\"\" The neural network with mutliple inputs and weights is a matrix multiplication.\n",
        "\n",
        "    For each output node, it calculates the dot product between the input and its weights.\n",
        "    The network returns A series of weighted susm (dot products) of the inputs and the weights\n",
        "    corresponding to each output node. \n",
        "    \n",
        "    Args:\n",
        "        input ([float]): the input to the network, a vector. \n",
        "        weights ([[float]]): the parameters of the network, a matrix. \n",
        "\n",
        "    Returns:\n",
        "        pred ([float]): A series of dot products of inputs and weights for each output.\n",
        "    \"\"\"\n",
        "    pred = vect_mat_mul(input,weights)\n",
        "    return pred \n",
        "\n",
        "# Learning rate for the network.\n",
        "alpha = 0.1 #@param {type: \"float\"} {allow-input: true}\n",
        "\n",
        "# The parameters of the network, a matrix.\n",
        "weights = [[0.1, 0.1, -0.3],\n",
        "           [0.1, 0.2, 0.0],\n",
        "           [0.0, 1.3, 0.1]]\n",
        "\n",
        "# Input\n",
        "toes = [8.5, 9.5, 9.9, 9.0]\n",
        "wlrec = [0.65, 1.0, 1.0, 0.9]\n",
        "nfans = [1.2, 1.3, 0.5, 1.0]\n",
        "\n",
        "# Output\n",
        "hurt = [0.1, 0.0, 0.0, 0.9]\n",
        "win = [1,1,0,1]\n",
        "sad = [0.1, 0.0, 0.1, 0.2]\n",
        "\n",
        "# First instance\n",
        "input = [toes[0], wlrec[0], nfans[0]]\n",
        "true = [hurt[0], win[0], sad[0]]\n",
        "alpha = 0.001\n",
        "\n",
        "# Number of iterations to train for.\n",
        "epochs = 100\n",
        "errors = []\n",
        "\n",
        "# Fit the network to the first instance for 100 epochs.\n",
        "for epoch in range(epochs): \n",
        "    # Prediction is the vector-matrix multiplication between the input and weights. \n",
        "    pred = neural_network(input,weights)\n",
        "\n",
        "    error = [0, 0, 0]\n",
        "    delta = [0, 0, 0]\n",
        "\n",
        "    # Calculate the square and pure error for the instance.\n",
        "    for i in range(len(true)):\n",
        "        error[i] = (pred[i] - true[i]) ** 2\n",
        "        delta[i] = pred[i] - true[i]\n",
        "    errors.append(error)\n",
        "\n",
        "    # Calculate the weight update.\n",
        "    weight_deltas = outer_product(input,delta) \n",
        "\n",
        "    # Apply the weight update.\n",
        "    for i in range(len(weights)):\n",
        "        for j in range(len(weights[0])):\n",
        "            weights[i][j] -= alpha * weight_deltas[i][j]\n",
        "\n",
        "    # Show the networks progress every 20 epochs.\n",
        "    if epoch % 20 == 0:\n",
        "        print(f\"pred: {pred}, goal: {true}, error: {error}\")\n",
        "        # print(f\"Weights: {weights}\")\n",
        "        # print(f\"Weight Deltas: {weight_deltas}\") \n",
        "\n",
        "# Flip axis; Error as y-axis, Epochs as x-axis.\n",
        "errors = np.array(errors).T\n",
        "\n",
        "# Plot the error for each output node of the network over training.\n",
        "for i, error in enumerate(errors): \n",
        "    plt.plot(error, label=f\"output {i+1}\")\n",
        "plt.xlabel(\"Epoch\") \n",
        "plt.ylabel(\"Error\")\n",
        "plt.ylabel(\"Errors for Outputs\")\n",
        "plt.legend()"
      ],
      "metadata": {
        "colab": {
          "base_uri": "https://localhost:8080/",
          "height": 390
        },
        "id": "ocBLJWBoAos8",
        "outputId": "38df554e-f081-415d-f8e7-7b6151f112af"
      },
      "execution_count": 20,
      "outputs": [
        {
          "output_type": "stream",
          "name": "stdout",
          "text": [
            "pred: [0.555, 0.9800000000000001, 0.9650000000000001], goal: [0.1, 1, 0.1], error: [0.20702500000000007, 0.0003999999999999963, 0.7482250000000001]\n",
            "pred: [0.11416482154918006, 0.9462890745890551, 0.9027644453951783], goal: [0.1, 1, 0.1], error: [0.0002006421695201157, 0.0028848635085000876, 0.6444307547906283]\n",
            "pred: [0.01966289504006391, 0.9390624566795344, 0.8894229969468324], goal: [0.1, 1, 0.1], error: [0.006454050433343789, 0.0037133841859336263, 0.6231886681085185]\n",
            "pred: [-0.0005955020899434116, 0.9375132851342985, 0.8865629879402429], goal: [0.1, 1, 0.1], error: [0.010119455040727811, 0.003904589534707475, 0.6186813339974827]\n",
            "pred: [-0.004938298786659523, 0.9371811889163146, 0.8859498872301184], goal: [0.1, 1, 0.1], error: [0.011012046552238228, 0.003946203025967751, 0.6177172252370358]\n"
          ]
        },
        {
          "output_type": "execute_result",
          "data": {
            "text/plain": [
              "<matplotlib.legend.Legend at 0x7f8df3398810>"
            ]
          },
          "metadata": {},
          "execution_count": 20
        },
        {
          "output_type": "display_data",
          "data": {
            "text/plain": [
              "<Figure size 432x288 with 1 Axes>"
            ],
            "image/png": "[encoded data removed]"
          },
          "metadata": {
            "needs_background": "light"
          }
        }
      ]
    },
    {
      "cell_type": "markdown",
      "source": [
        "## MNIST Project\n",
        "\n",
        "The Modified National Instutude of Standards and Technology (MNIST) dataset consists of difits that highschool students and employees of the US Census Bureau handwrote some years ago. These handwritten digits are black-and-white images of peoples' handwriting. Accompanying each digit image is the actual number they were writing (0-9). For the lwas few decased people have been using this dataset to train neural entworks to read human handwriting."
      ],
      "metadata": {
        "id": "733dZc-HVI1t"
      }
    },
    {
      "cell_type": "code",
      "source": [
        "from keras.datasets import mnist\n",
        "import random\n",
        "import numpy as np\n",
        "\n",
        "alpha = 0.001 #@param {type: \"Float\"} {allow-input: true}\n",
        "epochs = 2000 #@param {type: \"Float\"} {allow-input: true}\n",
        "size = 100 #@param {type: \"Float\"} {allow-input: true}\n",
        "\n",
        "# Load the MNIST dataset.\n",
        "(X_train, y_train), (X_test, y_test) = mnist.load_data()\n",
        "# Take first size instances from each set.\n",
        "X_train, X_test = X_train[:size], X_test[:size]\n",
        "y_train, y_test = y_train[:size], y_test[:size]\n",
        "# Flatten each image into 1x784 vectors.\n",
        "X_train, X_test = [np.concatenate(i) for i in X_train], [np.concatenate(i) for i in X_test]\n",
        "input_dim, output_dim = 784, 10\n",
        "\n",
        "def onehot_encoding(labels):\n",
        "    \"\"\" Encodes the class labels as onehot encoded vectors.\n",
        "    \n",
        "    Args: \n",
        "        labels ([int]): categorical encoding.\n",
        "\n",
        "    Returns:\n",
        "        onehot ([[int]]): list of onehot encoded output vector.\n",
        "    \"\"\"\n",
        "    out = np.zeros((input_dim, output_dim))\n",
        "    for idx, label in enumerate(labels): \n",
        "        out[idx][label - 1] = 1\n",
        "    return out\n",
        "  \n",
        "\n",
        "def normalize(inputs):\n",
        "    \"\"\" Normalize pixel inputs between 0 and 1.\n",
        "    \n",
        "    Args: \n",
        "        input ([float]): image as 1 x784 vector in raw pixel [0,255].\n",
        "\n",
        "    Returns\n",
        "        output ([float]): an image as 1x784 vector normazlied [0,1].\n",
        "    \"\"\"\n",
        "    return np.array(inputs)/255\n",
        "\n",
        "\n",
        "def neural_network(input, weights):\n",
        "    \"\"\" Make a prediction, the dot product of the input and weights.\n",
        "    \n",
        "    Args:\n",
        "        input ([float]): an image as 1 x784 vector. \n",
        "        weights ([[float]]) a weights matrix of shape (10,784).\n",
        "\n",
        "    Returns: \n",
        "        prediction ([float]) the dot product of the input and weights.\n",
        "    \"\"\"\n",
        "    return weights.dot(input)\n",
        "\n",
        "\n",
        "X_train, X_test = normalize(X_train), normalize(X_test)\n",
        "y_train, y_test = onehot_encoding(y_train), onehot_encoding(y_test)\n",
        "y_train, y_test = np.array(y_train), np.array(y_test)\n",
        "weights = np.random.rand(output_dim, input_dim) # (10, 784)\n",
        "weight_deltas = np.empty_like(weights) # (10, 784)\n",
        "\n",
        "errors = []\n",
        "val_errors = []\n",
        "\n",
        "# Fit the network for a given number of training epochs.\n",
        "for epoch in range(epochs): \n",
        "    error_sum = 0\n",
        "    val_error_sum = 0\n",
        "    \n",
        "    # Fit to the training set.\n",
        "    for image, label in zip(X_train, y_train):\n",
        "        # Prediction is dot product of input image and weights.\n",
        "        preds = neural_network(image, weights)\n",
        "        # Sum Square Error (SSE).\n",
        "        error = sum((preds - label) ** 2)\n",
        "        # Pure error.\n",
        "        deltas = preds - label\n",
        "        # Calculate weight update. Multiply each delta by the input.\n",
        "        weight_deltas = np.array([ image * delta for delta in deltas ])\n",
        "        # Apply weight update scaled by learning rate.\n",
        "        weights -= weight_deltas * alpha\n",
        "        error_sum += error\n",
        "\n",
        "    errors.append(error_sum)\n",
        "\n",
        "    # Evaluate on the validation set.\n",
        "    for image, label in zip(X_test, y_test):\n",
        "        preds = neural_network(image, weights)\n",
        "        val_error = sum((preds - label) ** 2)\n",
        "        val_error_sum += val_error\n",
        "\n",
        "    val_errors.append(val_error_sum)\n",
        "        \n",
        "    # Display the network progress every 200 epochs.\n",
        "    if epoch % 200 == 0:\n",
        "        print(f\"epoch: {epoch}, Error: {error_sum}, validation: {val_error_sum}\")\n",
        "\n",
        "# Plot the error for the training and validation dataset.\n",
        "plt.plot(errors[1:], label=\"train\")\n",
        "plt.plot(val_errors[1:], label=\"test\")\n",
        "plt.title(\"Mean Squared Error (MSE)\")\n",
        "plt.xlabel(\"Epoch\") \n",
        "plt.ylabel(\"Error\")\n",
        "plt.legend()"
      ],
      "metadata": {
        "colab": {
          "base_uri": "https://localhost:8080/",
          "height": 498
        },
        "id": "3AZXyjALC1Dt",
        "outputId": "dd9c19a1-65d5-49fc-cf53-70a033616740"
      },
      "execution_count": 89,
      "outputs": [
        {
          "output_type": "stream",
          "name": "stdout",
          "text": [
            "epoch: 0, Error: 402203.6870080674, validation: 43204.277844208395\n",
            "epoch: 200, Error: 65.49343590188842, validation: 5151.279807154436\n",
            "epoch: 400, Error: 15.584451577389258, validation: 4720.148319545051\n",
            "epoch: 600, Error: 5.038906946421681, validation: 4538.647305631303\n",
            "epoch: 800, Error: 1.9796260149795808, validation: 4451.296585406966\n",
            "epoch: 1000, Error: 0.9041754685247085, validation: 4406.688034083665\n",
            "epoch: 1200, Error: 0.4661823916688291, validation: 4382.676088076304\n",
            "epoch: 1400, Error: 0.26518711639039694, validation: 4369.03001672558\n",
            "epoch: 1600, Error: 0.16316607234440939, validation: 4360.818288717002\n",
            "epoch: 1800, Error: 0.10665700356939711, validation: 4355.579331609418\n"
          ]
        },
        {
          "output_type": "execute_result",
          "data": {
            "text/plain": [
              "<matplotlib.legend.Legend at 0x7f8d84b72d10>"
            ]
          },
          "metadata": {},
          "execution_count": 89
        },
        {
          "output_type": "display_data",
          "data": {
            "text/plain": [
              "<Figure size 432x288 with 1 Axes>"
            ],
            "image/png": "[encoded data removed]"
          },
          "metadata": {
            "needs_background": "light"
          }
        }
      ]
    },
    {
      "cell_type": "code",
      "source": [
        "weights.shape"
      ],
      "metadata": {
        "colab": {
          "base_uri": "https://localhost:8080/"
        },
        "id": "RBk7Z5Lo-QGd",
        "outputId": "2bf51339-5bf8-4cbc-c184-a0ce0c75ae19"
      },
      "execution_count": 92,
      "outputs": [
        {
          "output_type": "execute_result",
          "data": {
            "text/plain": [
              "(10, 784)"
            ]
          },
          "metadata": {},
          "execution_count": 92
        }
      ]
    }
  ]
}