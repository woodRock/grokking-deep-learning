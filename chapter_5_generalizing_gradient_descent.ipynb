{
  "nbformat": 4,
  "nbformat_minor": 0,
  "metadata": {
    "colab": {
      "name": "chapter-5-generalizing-gradient-descent.ipynb",
      "provenance": [],
      "collapsed_sections": [],
      "authorship_tag": "ABX9TyMlzHHK721XkKEOCu3dy+/k",
      "include_colab_link": true
    },
    "kernelspec": {
      "name": "python3",
      "display_name": "Python 3"
    },
    "language_info": {
      "name": "python"
    }
  },
  "cells": [
    {
      "cell_type": "markdown",
      "metadata": {
        "id": "view-in-github",
        "colab_type": "text"
      },
      "source": [
        "<a href=\"https://colab.research.google.com/github/woodRock/grokking-deep-learning/blob/main/chapter_5_generalizing_gradient_descent.ipynb\" target=\"_parent\"><img src=\"https://colab.research.google.com/assets/colab-badge.svg\" alt=\"Open In Colab\"/></a>"
      ]
    },
    {
      "cell_type": "markdown",
      "source": [
        "# Chapter 5 | Generalizaing Gradient Descent\n",
        "\n",
        "If you combine weights in a way that allows you to calculate an error function and a dela, gradient descent can show you how to move the weight combinations and error functions for which gradient descent is useful. "
      ],
      "metadata": {
        "id": "4XMgcl_TJ_L6"
      }
    },
    {
      "cell_type": "code",
      "execution_count": 3,
      "metadata": {
        "id": "KzUfGSAYJxtm"
      },
      "outputs": [],
      "source": [
        "import numpy as np\n",
        "import matplotlib.pyplot as plt"
      ]
    },
    {
      "cell_type": "markdown",
      "source": [
        "# 1-1-1 ANN | A simple neural network\n",
        "\n",
        "Here is the basic gradient descent algorithm for a simple network. This can be generalized to work for multiple inputs, and this can be generalized to handle multiple inputs."
      ],
      "metadata": {
        "id": "HrVLK30MUi01"
      }
    },
    {
      "cell_type": "code",
      "source": [
        "weight, input, goal = (0.5, 2, 0.8)\n",
        "alpha = 0.001\n",
        "epochs = 100\n",
        "\n",
        "def neural_network(weight, input, goal):\n",
        "    \"\"\" A simple 1-1-1 Aritificial Neural Network. \n",
        "\n",
        "    Args: \n",
        "        weight - the weight for the artificial neuron. \n",
        "        input - the input to the network. \n",
        "        output - the network output (or prediction). \n",
        "\n",
        "    Returns: \n",
        "        errors - the history of the networks errors (for plotting).\n",
        "    \"\"\"\n",
        "    errors = [] \n",
        "    for epoch in range(epochs):\n",
        "        pred = input * weight \n",
        "        error = (pred - goal) ** 2\n",
        "        delta = pred - goal # Pure error\n",
        "        weight_delta = delta * input # Negative reversal, scaling and stopping.\n",
        "        weight -= weight_delta * alpha\n",
        "\n",
        "        # Every 5 epochs, print the network state. \n",
        "        if epoch % 5 == 0: \n",
        "            print(f\"Weight: {weight} Pred: {pred} Error: {error}\")\n",
        "        errors.append(error) \n",
        "\n",
        "    return errors \n",
        "\n",
        "plt.title(\"Mean Squared Error (MSE)\")\n",
        "plt.xlabel(\"Epoch\")\n",
        "plt.ylabel(\"Error\")\n",
        "plt.plot(neural_network(weight, input, goal))"
      ],
      "metadata": {
        "colab": {
          "base_uri": "https://localhost:8080/",
          "height": 679
        },
        "id": "Rphnd3aZSOVx",
        "outputId": "7b3026f8-bbf7-4d00-a3ac-b447c7e7246a"
      },
      "execution_count": 6,
      "outputs": [
        {
          "output_type": "stream",
          "name": "stdout",
          "text": [
            "Weight: 0.4996 Pred: 1.0 Error: 0.03999999999999998\n",
            "Weight: 0.49762387238338596 Pred: 0.9960318722557951 Error: 0.03842849494011237\n",
            "Weight: 0.49568695240087984 Pred: 0.9921424747005619 Error: 0.036918730584056064\n",
            "Weight: 0.49378846214797817 Pred: 0.9883302452770646 Error: 0.03546828128611929\n",
            "Weight: 0.49192763915429966 Pred: 0.9845936529202804 Error: 0.03407481669845295\n",
            "Weight: 0.4901037360773626 Pred: 0.9809311969424951 Error: 0.03273609802704393\n",
            "Weight: 0.4883160204024371 Pred: 0.9773414064305966 Error: 0.03144997443478205\n",
            "Weight: 0.4865637741483538 Pred: 0.9738228396553289 Error: 0.030214379585842166\n",
            "Weight: 0.48484629357914794 Pred: 0.970374083492265 Error: 0.029027328325829254\n",
            "Weight: 0.4831628889214261 Pred: 0.9669937528542693 Error: 0.027886913492352745\n",
            "Weight: 0.4815128840873395 Pred: 0.9636804901352198 Error: 0.026791302850905783\n",
            "Weight: 0.4798956164030539 Pred: 0.9604329646647669 Error: 0.025738736151126332\n",
            "Weight: 0.4783104363426074 Pred: 0.9572498721739104 Error: 0.02472752229871116\n",
            "Weight: 0.47675670726704794 Pred: 0.9541299342711806 Error: 0.023756036638438453\n",
            "Weight: 0.4752338051687471 Pred: 0.951071897929211 Error: 0.02282271834393393\n",
            "Weight: 0.47374111842078603 Pred: 0.9480745349814981 Error: 0.021926067909986885\n",
            "Weight: 0.47227804753131497 Pred: 0.9451366416291466 Error: 0.021064644743387307\n",
            "Weight: 0.47084400490278516 Pred: 0.9422570379573999 Error: 0.020237064848413103\n",
            "Weight: 0.46943841459595853 Pred: 0.9394345674617641 Error: 0.019441998603249237\n",
            "Weight: 0.4680607120985994 Pred: 0.9366680965835329 Error: 0.018678168623765864\n"
          ]
        },
        {
          "output_type": "execute_result",
          "data": {
            "text/plain": [
              "[<matplotlib.lines.Line2D at 0x7f8906b63690>]"
            ]
          },
          "metadata": {},
          "execution_count": 6
        },
        {
          "output_type": "display_data",
          "data": {
            "text/plain": [
              "<Figure size 432x288 with 1 Axes>"
            ],
            "image/png": "[encoded data removed]"
          },
          "metadata": {
            "needs_background": "light"
          }
        }
      ]
    },
    {
      "cell_type": "markdown",
      "source": [
        "## Mulitple inputs | A more complex neural network\n",
        "\n",
        "The _delta_ $\\Delta$ is a measure of how much higher or lower you want a node's value to be, to predict prefectly given the current training example. \n",
        "\n",
        "$ \\Delta = (\\hat{y} -y) $ \n",
        "\n",
        "The _delta weight_ $\\Delta w$ is a derived-based estimate of the direction and amount you should move a weight to reduce _delta_, accounting for scaling, negative reversal, and stopping.\n",
        "\n",
        "For a network with multiple inputs, the process is the same. Instead we can calculate a vector of weight detlas, you multiple them by the learning rate $\\alpha$ and substract them from the previous weights.\n",
        "\n",
        "$ w := w - \\alpha \\Delta w$"
      ],
      "metadata": {
        "id": "gRk4EO9-WrDA"
      }
    },
    {
      "cell_type": "code",
      "source": [
        "def neural_network(input, weights):\n",
        "    n = len(input)\n",
        "    out = sum([i*w for i,w in zip(input,weights[:n])])\n",
        "    return out    \n",
        "\n",
        "def ele_mul(scalar, vector):\n",
        "    out = [0,0,0]\n",
        "    n = len(out)\n",
        "    out = [v*scalar for v in vector]\n",
        "    return out \n",
        "\n",
        "toes = [8.5, 9.5, 9.9, 9.0]\n",
        "wlrec = [0.65, 0.8, 0.7, 0.9]\n",
        "nfans = [1.2, 1.3, 0.5, 1.0]\n",
        "\n",
        "win_or_lose_binary = [1, 1, 0, 1]\n",
        "true = win_or_lose_binary[0]\n",
        "\n",
        "alpha = 0.001\n",
        "weights = [0.1, 0.2, -0.1]\n",
        "input = [toes[0], wlrec[0], nfans[0]]\n",
        "\n",
        "errors = []\n",
        "weight_deltas = []\n",
        "\n",
        "for i in range(50):\n",
        "    pred = neural_network(input, weights)\n",
        "    error = (pred - true) ** 2\n",
        "    delta = (pred - true)\n",
        "    weight_delta = ele_mul(delta, input)\n",
        "    weight_deltas.append(weight_delta)\n",
        "\n",
        "    if i % 5 == 0:\n",
        "        print(f\"Iteration: {i}, pred: {pred}, error: {error}, delta: {delta}, weights: {weights}, weight_deltas:{weight_delta}\")\n",
        "    weights = [w - alpha * dw for w,dw in zip(weights,weight_delta)]\n",
        "    errors.append(error)\n",
        "\n",
        "weight_deltas = np.array(weight_deltas).T\n",
        "for i,w_d in enumerate(weight_deltas):\n",
        "    plt.plot(w_d, label=f\"w{i+1}\")\n",
        "plt.xlabel(\"Epochs\")\n",
        "plt.ylabel(\"Error\")\n",
        "plt.title(\"Weight Deltas\")\n",
        "plt.legend()"
      ],
      "metadata": {
        "colab": {
          "base_uri": "https://localhost:8080/",
          "height": 496
        },
        "id": "xM-TiVlgl_u2",
        "outputId": "f9d76ed8-d8b0-4ad0-9cb0-7ed7b19d7a50"
      },
      "execution_count": 32,
      "outputs": [
        {
          "output_type": "stream",
          "name": "stdout",
          "text": [
            "Iteration: 0, pred: 0.8600000000000001, error: 0.01959999999999997, delta: -0.1399999999999999, weights: [0.1, 0.2, -0.1], weight_deltas:[-1.189999999999999, -0.09099999999999994, -0.16799999999999987]\n",
            "Iteration: 5, pred: 0.9047381217162285, error: 0.009074825454152101, delta: -0.09526187828377153, weights: [0.105131037741109, 0.2003923734743201, -0.09927561820125519], weight_deltas:[-0.809725965412058, -0.061920220884451496, -0.11431425394052583]\n",
            "Iteration: 10, pred: 0.9351798181846276, error: 0.004201655970577936, delta: -0.06482018181537241, weights: [0.10862241126084446, 0.20065936086112338, -0.09878271841023371], weight_deltas:[-0.5509715454306655, -0.04213311817999207, -0.0777842181784469]\n",
            "Iteration: 15, pred: 0.9558936266398004, error: 0.0019453721709893272, delta: -0.044106373360199624, weights: [0.11099808839856033, 0.20084103028930164, -0.09844732869667382], weight_deltas:[-0.3749041735616968, -0.028669142684129758, -0.052927648032239545]\n",
            "Iteration: 20, pred: 0.969988171638729, error: 0.0009007098415863922, delta: -0.03001182836127103, weights: [0.11261459887237911, 0.20096464579612308, -0.09821911545331118], weight_deltas:[-0.25510054107080377, -0.01950768843482617, -0.03601419403352524]\n",
            "Iteration: 25, pred: 0.9795786918541084, error: 0.0004170298263894588, delta: -0.020421308145891603, weights: [0.11371454047238888, 0.2010487589773003, -0.09806382958036863], weight_deltas:[-0.17358111924007863, -0.013273850294829543, -0.024505569775069923]\n",
            "Iteration: 30, pred: 0.9861044844929334, error: 0.0001930853512071278, delta: -0.01389551550706658, weights: [0.1144629869210988, 0.20110599311749577, -0.09795816655231546], weight_deltas:[-0.11811188181006593, -0.009032085079593277, -0.016674618608479897]\n",
            "Iteration: 35, pred: 0.9905449078076826, error: 8.939876836522217e-05, delta: -0.009455092192317438, weights: [0.11497226131037681, 0.20114493762961705, -0.0978862689914762], weight_deltas:[-0.08036828363469822, -0.006145809925006335, -0.011346110630780925]\n",
            "Iteration: 40, pred: 0.9935663582743828, error: 4.139174585360296e-05, delta: -0.006433641725617223, weights: [0.11531879298812285, 0.20117143711085644, -0.097837346872265], weight_deltas:[-0.054685954667746395, -0.004181867121651195, -0.0077203700707406675]\n",
            "Iteration: 45, pred: 0.9956222800358063, error: 1.916443208489984e-05, delta: -0.0043777199641936715, weights: [0.11555458769174368, 0.20118946847054509, -0.09780405820822442], weight_deltas:[-0.03721061969564621, -0.0028455179767258865, -0.005253263957032406]\n"
          ]
        },
        {
          "output_type": "execute_result",
          "data": {
            "text/plain": [
              "<matplotlib.legend.Legend at 0x7f89060c8650>"
            ]
          },
          "metadata": {},
          "execution_count": 32
        },
        {
          "output_type": "display_data",
          "data": {
            "text/plain": [
              "<Figure size 432x288 with 1 Axes>"
            ],
            "image/png": "[encoded data removed]"
          },
          "metadata": {
            "needs_background": "light"
          }
        }
      ]
    },
    {
      "cell_type": "markdown",
      "source": [
        "We can make curves for each weight delta $\\Delta w$ to error $(\\hat{y} - y)^2$. Here we see that $w_1$ has the steepest curve, this is because it has the largest input (toes), a higher input value corresponds to a higher derivitive. The toes input has a larger impact than the win record and number of fans. \n",
        "\n",
        "More of the learning happens on the weight with the largest input. Normalization is a technique that counteracts this, and encourages learning across all weights. Note, the slope difference between weights meant a smaller learning rate $\\alpha = 0.001$ was required to prevent divergence. The network breaks with learning rate $\\alpha = 0.01$, it diverges, $w_1$ diverges."
      ],
      "metadata": {
        "id": "jVcz-WyUsNAm"
      }
    },
    {
      "cell_type": "markdown",
      "source": [
        "## Freezing Weights\n",
        "\n",
        "If we freeze the first weight $w_1$, and set learning rate $\\alpha=0.1$, the network can still converge on zero error, while only training two weights $w_1, w_2$. Error is shared across all weights, so when one weight finds the optima, all weights find it.\n",
        "\n",
        "If a network accidentally learns to predict the training data without $w_1$, then it will never learn to encorporate toes $i_1$ into its prediction. \n",
        "\n",
        "The goal of a neural network is to find the minima on the error plane. That is the optimal set of parameters $\\theta$ that give the lowest error. That error is determined entirely by the training data. "
      ],
      "metadata": {
        "id": "AQc0DLAOxafs"
      }
    },
    {
      "cell_type": "code",
      "source": [
        "def neural_network(input, weights):\n",
        "    n = len(input)\n",
        "    out = sum([i*w for i,w in zip(input,weights[:n])])\n",
        "    return out    \n",
        "\n",
        "def ele_mul(scalar, vector):\n",
        "    out = [0,0,0]\n",
        "    n = len(out)\n",
        "    out = [v*scalar for v in vector]\n",
        "    return out \n",
        "\n",
        "toes = [8.5, 9.5, 9.9, 9.0]\n",
        "wlrec = [0.65, 0.8, 0.7, 0.9]\n",
        "nfans = [1.2, 1.3, 0.5, 1.0]\n",
        "\n",
        "win_or_lose_binary = [1, 1, 0, 1]\n",
        "true = win_or_lose_binary[0]\n",
        "\n",
        "alpha = 0.1\n",
        "weights = [0.1, 0.2, -0.1]\n",
        "input = [toes[0], wlrec[0], nfans[0]]\n",
        "\n",
        "errors = []\n",
        "weight_deltas = []\n",
        "\n",
        "for i in range(50):\n",
        "    pred = neural_network(input, weights)\n",
        "    error = (pred - true) ** 2\n",
        "    delta = (pred - true)\n",
        "    weight_delta = ele_mul(delta, input)\n",
        "    weight_delta[0] = 0 # Freeze the first weight w1.\n",
        "    weight_deltas.append(weight_delta)\n",
        "\n",
        "    if i % 5 == 0:\n",
        "        print(f\"Iteration: {i}, pred: {pred}, error: {error}, delta: {delta}, weights: {weights}, weight_deltas:{weight_delta}\")\n",
        "    weights = [w - alpha * dw for w,dw in zip(weights,weight_delta)]\n",
        "    errors.append(error)\n",
        "\n",
        "weight_deltas = np.array(weight_deltas).T\n",
        "for i,w_d in enumerate(weight_deltas):\n",
        "    plt.plot(w_d, label=f\"w{i+1}\")\n",
        "plt.xlabel(\"Epochs\")\n",
        "plt.ylabel(\"Error\")\n",
        "plt.title(\"Weight Deltas\")\n",
        "plt.legend()"
      ],
      "metadata": {
        "colab": {
          "base_uri": "https://localhost:8080/",
          "height": 496
        },
        "id": "cvxa16GTxfib",
        "outputId": "de94594c-5787-453e-e152-c5efefc54e32"
      },
      "execution_count": 34,
      "outputs": [
        {
          "output_type": "stream",
          "name": "stdout",
          "text": [
            "Iteration: 0, pred: 0.8600000000000001, error: 0.01959999999999997, delta: -0.1399999999999999, weights: [0.1, 0.2, -0.1], weight_deltas:[0, -0.09099999999999994, -0.16799999999999987]\n",
            "Iteration: 5, pred: 0.9500445306641994, error: 0.002495548916560118, delta: -0.04995546933580064, weights: [0.1, 0.23142493687609642, -0.04198473192105279], weight_deltas:[0, -0.032471055068270416, -0.05994656320296077]\n",
            "Iteration: 10, pred: 0.9821746505959991, error: 0.0003177430813747165, delta: -0.017825349404000934, weights: [0.1, 0.24263813309390575, -0.02128344659586636], weight_deltas:[0, -0.011586477112600607, -0.02139041928480112]\n",
            "Iteration: 15, pred: 0.9936394736032037, error: 4.045629604434246e-05, delta: -0.0063605263967962955, weights: [0.1, 0.24663927937829924, -0.013896714993909143], weight_deltas:[0, -0.004134342157917592, -0.007632631676155554]\n",
            "Iteration: 20, pred: 0.9977304065616093, error: 5.1510543755862416e-06, delta: -0.002269593438390727, weights: [0.1, 0.2480669875248569, -0.011260946107956561], weight_deltas:[0, -0.0014752357349539726, -0.002723512126068872]\n",
            "Iteration: 25, pred: 0.9991901528184554, error: 6.558524574558017e-07, delta: -0.0008098471815446429, weights: [0.1, 0.2485764291715414, -0.010320438452538988], weight_deltas:[0, -0.0005264006680040179, -0.0009718166178535714]\n",
            "Iteration: 30, pred: 0.9997110264568261, error: 8.350570865448966e-08, delta: -0.00028897354317392043, weights: [0.1, 0.24875821057553657, -0.009984842014394013], weight_deltas:[0, -0.0001878328030630483, -0.0003467682518087045]\n",
            "Iteration: 35, pred: 0.9998968870787509, error: 1.0632274528521722e-08, delta: -0.00010311292124909333, weights: [0.1, 0.2488230746852016, -0.009865092888858576], weight_deltas:[0, -6.702339881191066e-05, -0.000123735505498912]\n",
            "Iteration: 40, pred: 0.99996320675446, error: 1.353742917363541e-09, delta: -3.6793245539956665e-05, weights: [0.1, 0.24884621980692562, -0.009822363433368049], weight_deltas:[0, -2.3915609600971834e-05, -4.4151894647947994e-05]\n",
            "Iteration: 45, pred: 0.9999868712582191, error: 1.7236386075068796e-10, delta: -1.3128741780943365e-05, weights: [0.1, 0.24885447855991533, -0.009807116504771674], weight_deltas:[0, -8.533682157613187e-06, -1.5754490137132038e-05]\n"
          ]
        },
        {
          "output_type": "execute_result",
          "data": {
            "text/plain": [
              "<matplotlib.legend.Legend at 0x7f89060c8a90>"
            ]
          },
          "metadata": {},
          "execution_count": 34
        },
        {
          "output_type": "display_data",
          "data": {
            "text/plain": [
              "<Figure size 432x288 with 1 Axes>"
            ],
            "image/png": "[encoded data removed]"
          },
          "metadata": {
            "needs_background": "light"
          }
        }
      ]
    },
    {
      "cell_type": "markdown",
      "source": [
        "## Gradient Descent with Multiple Outputs"
      ],
      "metadata": {
        "id": "6pHqf8Z06WMI"
      }
    },
    {
      "cell_type": "code",
      "source": [
        "weights = [0.3, 0.2, 0.9]\n",
        "\n",
        "def ele_mul(scalar, vector):\n",
        "    out = [0,0,0]\n",
        "    n = len(out)\n",
        "    out = [v*scalar for v in vector]\n",
        "    return out\n",
        "\n",
        "def scalar_ele_mul(number, vector):\n",
        "    output = [number * v for v in vector]\n",
        "    return output \n",
        "\n",
        "def neural_network(input, weights):\n",
        "    pred = ele_mul(input, weights)\n",
        "    return pred \n",
        "\n",
        "wlrec = [0.6, 1.0, 1.0, 0.9]\n",
        "\n",
        "hurt = [1.0, 0.0, 0.0, 0.1]\n",
        "win = [1, 1, 0, 1]\n",
        "sad = [0.1, 0.0, 0.1, 0.2]\n",
        "\n",
        "input = wlrec[0]\n",
        "true = [hurt[0], win[0], sad[0]]\n",
        "\n",
        "pred = neural_network(input, weights)\n",
        "\n",
        "error = [0, 0, 0]\n",
        "delta = [0, 0, 0]\n",
        "\n",
        "for i in range(len(true)):\n",
        "    error[i] = (pred[i] - true[i]) ** 2 \n",
        "    delta[i] = pred[i] - true[i]\n",
        "\n",
        "weight_detlas = scalar_ele_mul(input, weights)\n",
        "alpha = 0.1 \n",
        "\n",
        "for i in range(len(weights)):\n",
        "    weights -= weight_deltas[i] * alpha\n",
        "\n",
        "print(f\"Weights: {weights}\")\n",
        "print(f\"Weight Deltas: {weight_deltas}\") "
      ],
      "metadata": {
        "colab": {
          "base_uri": "https://localhost:8080/"
        },
        "id": "Jn3GiO9g6bYl",
        "outputId": "3a9149de-e4e4-497f-9855-1171d7163d4c"
      },
      "execution_count": 40,
      "outputs": [
        {
          "output_type": "stream",
          "name": "stdout",
          "text": [
            "Weights: [-0.170925  0.2207    0.004725]\n",
            "Weight Deltas: [[ 3.8675  -0.17     7.3525 ]\n",
            " [ 0.29575 -0.013    0.56225]\n",
            " [ 0.546   -0.024    1.038  ]]\n"
          ]
        }
      ]
    },
    {
      "cell_type": "markdown",
      "source": [
        "## Gradient Descent with Multiple Inputs and Outputs"
      ],
      "metadata": {
        "id": "4NGQ1XKy0KZl"
      }
    },
    {
      "cell_type": "code",
      "source": [
        "weights = [[0.1, 0.1, -0.3],\n",
        "           [0.1, 0.2, 0.0],\n",
        "           [0.0, 1.3, 0.1]]\n",
        "\n",
        "def w_sum(a,b):\n",
        "    assert(len(a) == len(b))\n",
        "    output = sum([a*b for a,b in zip(a,b)])\n",
        "    return output\n",
        "\n",
        "def vect_mat_mul(vect, matrix):\n",
        "    assert(len(vect) == len(matrix))\n",
        "    output = [0,0,0]\n",
        "    for i in range(len(vect)):\n",
        "        output[i] = w_sum(vect,matrix[i]) \n",
        "    return output \n",
        "\n",
        "def outer_product(a,b):\n",
        "    out = np.zeros((len(a), len(b)))\n",
        "    for i in range(len(a)):\n",
        "        for j in range(len(b)):\n",
        "            out[i][j] = a[i] * b[j]\n",
        "    return out\n",
        "\n",
        "def neural_network(input, weights):\n",
        "    pred = vect_mat_mul(input,weights)\n",
        "    return pred \n",
        "\n",
        "toes = [8.5, 9.5, 9.9, 9.0]\n",
        "wlrec = [0.65, 1.0, 1.0, 0.9]\n",
        "nfans = [1.2, 1.3, 0.5, 1.0]\n",
        "\n",
        "hurt = [0.1, 0.0, 0.0, 0.9]\n",
        "win = [1,1,0,1]\n",
        "sad = [0.1, 0.0, 0.1, 0.2]\n",
        "\n",
        "input = [toes[0], wlrec[0], nfans[0]]\n",
        "true = [hurt[0], win[0], sad[0]]\n",
        "\n",
        "epochs = 10\n",
        "pred = neural_network(input,weights)\n",
        "\n",
        "error = [0, 0, 0]\n",
        "delta = [0, 0, 0]\n",
        "\n",
        "for i in range(len(true)):\n",
        "    error[i] = (pred[i] - true[i]) ** 2\n",
        "    delta[i] = pred[i] - true[i]\n",
        "\n",
        "weight_deltas = outer_product(input,delta) \n",
        "\n",
        "for i in range(len(weights)):\n",
        "    for j in range(len(weights[0])):\n",
        "        weights[i][j] -= alpha * weight_deltas[i][j]\n",
        "\n",
        "print(f\"Weights: {weights}\")\n",
        "print(f\"Weight Deltas: {weight_deltas}\") "
      ],
      "metadata": {
        "colab": {
          "base_uri": "https://localhost:8080/"
        },
        "id": "k5H-4ewW0KAC",
        "outputId": "ffdf084b-3ee4-40bb-9608-d7cb2d382825"
      },
      "execution_count": 50,
      "outputs": [
        {
          "output_type": "stream",
          "name": "stdout",
          "text": [
            "Weights: [[0.09613250000000001, 0.10017000000000001, -0.3073525], [0.09970425000000001, 0.20001300000000002, -0.0005622500000000001], [-0.000546, 1.300024, 0.09896200000000001]]\n",
            "Weight Deltas: [[ 3.8675  -0.17     7.3525 ]\n",
            " [ 0.29575 -0.013    0.56225]\n",
            " [ 0.546   -0.024    1.038  ]]\n"
          ]
        }
      ]
    },
    {
      "cell_type": "code",
      "source": [
        "weights = [[0.1, 0.1, -0.3],\n",
        "           [0.1, 0.2, 0.0],\n",
        "           [0.0, 1.3, 0.1]]\n",
        "\n",
        "def w_sum(a,b):\n",
        "    assert(len(a) == len(b))\n",
        "    output = sum([a*b for a,b in zip(a,b)])\n",
        "    return output\n",
        "\n",
        "def vect_mat_mul(vect, matrix):\n",
        "    assert(len(vect) == len(matrix))\n",
        "    output = [0,0,0]\n",
        "    for i in range(len(vect)):\n",
        "        output[i] = w_sum(vect,matrix[i]) \n",
        "    return output \n",
        "\n",
        "def outer_product(a,b):\n",
        "    out = np.zeros((len(a), len(b)))\n",
        "    for i in range(len(a)):\n",
        "        for j in range(len(b)):\n",
        "            out[i][j] = a[i] * b[j]\n",
        "    return out\n",
        "\n",
        "def neural_network(input, weights):\n",
        "    pred = vect_mat_mul(input,weights)\n",
        "    return pred \n",
        "\n",
        "toes = [8.5, 9.5, 9.9, 9.0]\n",
        "wlrec = [0.65, 1.0, 1.0, 0.9]\n",
        "nfans = [1.2, 1.3, 0.5, 1.0]\n",
        "\n",
        "hurt = [0.1, 0.0, 0.0, 0.9]\n",
        "win = [1,1,0,1]\n",
        "sad = [0.1, 0.0, 0.1, 0.2]\n",
        "\n",
        "input = [toes[0], wlrec[0], nfans[0]]\n",
        "true = [hurt[0], win[0], sad[0]]\n",
        "alpha = 0.001\n",
        "\n",
        "epochs = 100\n",
        "errors = []\n",
        "for e in range(epochs): \n",
        "    pred = neural_network(input,weights)\n",
        "\n",
        "    error = [0, 0, 0]\n",
        "    delta = [0, 0, 0]\n",
        "\n",
        "    for i in range(len(true)):\n",
        "        error[i] = (pred[i] - true[i]) ** 2\n",
        "        delta[i] = pred[i] - true[i]\n",
        "\n",
        "    weight_deltas = outer_product(input,delta) \n",
        "\n",
        "    for i in range(len(weights)):\n",
        "        for j in range(len(weights[0])):\n",
        "            weights[i][j] -= alpha * weight_deltas[i][j]\n",
        "\n",
        "    errors.append(error)\n",
        "    if e % 20 == 0:\n",
        "        print(f\"Weights: {weights}\")\n",
        "        print(f\"Weight Deltas: {weight_deltas}\") \n",
        "\n",
        "errors = np.array(errors).T\n",
        "for i, error in enumerate(errors): \n",
        "    plt.plot(error, label=f\"o{i+1}\")\n",
        "plt.xlabel(\"Epoch\") \n",
        "plt.ylabel(\"Error\")\n",
        "plt.legend()"
      ],
      "metadata": {
        "colab": {
          "base_uri": "https://localhost:8080/",
          "height": 663
        },
        "id": "ocBLJWBoAos8",
        "outputId": "2f0ff083-fda2-4fd9-bf85-a081e704b295"
      },
      "execution_count": 76,
      "outputs": [
        {
          "output_type": "stream",
          "name": "stdout",
          "text": [
            "Weights: [[0.09613250000000001, 0.10017000000000001, -0.3073525], [0.09970425000000001, 0.20001300000000002, -0.0005622500000000001], [-0.000546, 1.300024, 0.09896200000000001]]\n",
            "Weight Deltas: [[ 3.8675  -0.17     7.3525 ]\n",
            " [ 0.29575 -0.013    0.56225]\n",
            " [ 0.546   -0.024    1.038  ]]\n",
            "Weights: [[0.06736094977639384, 0.10728482262995952, -0.44754436591392077], [0.09750407262995954, 0.20055707467170283, -0.011282804452241007], [-0.004607865913920871, 1.301028445547759, 0.07917020716509354]]\n",
            "Weight Deltas: [[ 0.12040098 -0.45654287  6.82349779]\n",
            " [ 0.00920713 -0.0349121   0.52179689]\n",
            " [ 0.01699779 -0.06445311  0.96331733]]\n",
            "Weights: [[0.07536670223264576, 0.11721202722955523, -0.5825441420377439], [0.09811627722955528, 0.20131621384696607, -0.021606316744062787], [-0.0034776420377441294, 1.3024299332559368, 0.060111415241730276]]\n",
            "Weight Deltas: [[-0.68286539 -0.51796912  6.71009547]\n",
            " [-0.05221912 -0.0396094   0.51312495]\n",
            " [-0.09640453 -0.07312505  0.9473076 ]]\n",
            "Weights: [[0.09125641251474348, 0.12774212272171562, -0.7164308888214477], [0.09933137272171569, 0.20212145644342538, -0.03184471502752249], [-0.0012343888214479842, 1.303916534972477, 0.04120975687226622]]\n",
            "Weight Deltas: [[-0.85506177 -0.53113708  6.6857854 ]\n",
            " [-0.06538708 -0.04061636  0.51126594]\n",
            " [-0.1207146  -0.07498406  0.94387559]]\n",
            "Weights: [[0.10883620843310389, 0.13840146005664908, -0.850079035280032], [0.10067571005664917, 0.20293658223962616, -0.04206486740376718], [0.001247464719967607, 1.3054213825962324, 0.022341783254583723]]\n",
            "Weight Deltas: [[-0.89197554 -0.53395989  6.68057404]\n",
            " [-0.06820989 -0.04083223  0.51086743]\n",
            " [-0.12592596 -0.07538257  0.94313986]]\n"
          ]
        },
        {
          "output_type": "execute_result",
          "data": {
            "text/plain": [
              "<matplotlib.legend.Legend at 0x7f889b0fae50>"
            ]
          },
          "metadata": {},
          "execution_count": 76
        },
        {
          "output_type": "display_data",
          "data": {
            "text/plain": [
              "<Figure size 432x288 with 1 Axes>"
            ],
            "image/png": "[encoded data removed]"
          },
          "metadata": {
            "needs_background": "light"
          }
        }
      ]
    },
    {
      "cell_type": "markdown",
      "source": [
        "## MNIST Project"
      ],
      "metadata": {
        "id": "733dZc-HVI1t"
      }
    },
    {
      "cell_type": "code",
      "source": [
        "from keras.datasets import mnist\n",
        "import random\n",
        "import numpy as np\n",
        "\n",
        "(images, labels), _ = mnist.load_data()\n",
        "images = images[:1000]\n",
        "labels = labels[:1000]\n",
        "images = [np.concatenate(i) for i in images]\n",
        "n_i = images[0].shape[0]\n",
        "\n",
        "def onehot_encoding(labels):\n",
        "    out = []\n",
        "    n = len(np.unique(labels))\n",
        "    for l in labels: \n",
        "        label = [0]*n\n",
        "        label[l-1] = 1\n",
        "        out.append(label)\n",
        "    return out, n\n",
        "\n",
        "\n",
        "def normalize(inputs):\n",
        "    return np.array(inputs)/255\n",
        "\n",
        "\n",
        "def neural_network(input, weights):\n",
        "    output = np.empty(10)\n",
        "    for idx, weight in enumerate(weights):\n",
        "        output[idx] = input.dot(weight)\n",
        "    return output\n",
        "\n",
        "alpha = 0.01\n",
        "epochs = 500\n",
        "\n",
        "images = normalize(images)\n",
        "labels, n_o = onehot_encoding(labels)\n",
        "labels = np.array(labels)\n",
        "weights = np.random.rand(n_o,n_i)\n",
        "weight_deltas = np.empty_like(weights)\n",
        "\n",
        "errors = []\n",
        "\n",
        "for epoch in range(epochs): \n",
        "    error_sum = 0\n",
        "    for image, label in zip(images, labels):\n",
        "        preds = neural_network(image, weights)\n",
        "        error = sum((preds - label) ** 2)\n",
        "        deltas = preds - label\n",
        "        weight_deltas = np.array([ image * delta for delta in deltas ])\n",
        "        weights -= weight_deltas * alpha\n",
        "        error_sum += error\n",
        "    errors.append(error_sum)\n",
        "\n",
        "    if epoch % 20 == 0:\n",
        "        print(f\"epoch: {epoch}, Error: {error_sum}\")\n",
        "\n",
        "plt.plot(errors)\n",
        "plt.title(\"Mean Squared Error (MSE)\")\n",
        "plt.xlabel(\"Epoch\") \n",
        "plt.ylabel(\"Error\")"
      ],
      "metadata": {
        "colab": {
          "base_uri": "https://localhost:8080/",
          "height": 770
        },
        "id": "3AZXyjALC1Dt",
        "outputId": "b802c921-5815-4b31-8276-04ba47943695"
      },
      "execution_count": 116,
      "outputs": [
        {
          "output_type": "stream",
          "name": "stdout",
          "text": [
            "epoch: 0, Error: 117898.79604003312\n",
            "epoch: 20, Error: 928.0329487361223\n",
            "epoch: 40, Error: 577.0182209673684\n",
            "epoch: 60, Error: 467.8803444707827\n",
            "epoch: 80, Error: 414.81056500670303\n",
            "epoch: 100, Error: 383.3443971347064\n",
            "epoch: 120, Error: 362.7323585764218\n",
            "epoch: 140, Error: 348.39836683347227\n",
            "epoch: 160, Error: 337.99267731957445\n",
            "epoch: 180, Error: 330.1704279283697\n",
            "epoch: 200, Error: 324.1102364640141\n",
            "epoch: 220, Error: 319.28850299439097\n",
            "epoch: 240, Error: 315.36067616462657\n",
            "epoch: 260, Error: 312.09401699901116\n",
            "epoch: 280, Error: 309.3276395374281\n",
            "epoch: 300, Error: 306.94793835323725\n",
            "epoch: 320, Error: 304.8730751172081\n",
            "epoch: 340, Error: 303.04296709568104\n",
            "epoch: 360, Error: 301.41269992051747\n",
            "epoch: 380, Error: 299.9481159187441\n",
            "epoch: 400, Error: 298.6228101261958\n",
            "epoch: 420, Error: 297.41605249668345\n",
            "epoch: 440, Error: 296.31132910702104\n",
            "epoch: 460, Error: 295.29530321139276\n",
            "epoch: 480, Error: 294.357065108794\n"
          ]
        },
        {
          "output_type": "execute_result",
          "data": {
            "text/plain": [
              "Text(0, 0.5, 'Error')"
            ]
          },
          "metadata": {},
          "execution_count": 116
        },
        {
          "output_type": "display_data",
          "data": {
            "text/plain": [
              "<Figure size 432x288 with 1 Axes>"
            ],
            "image/png": "[encoded data removed]"
          },
          "metadata": {
            "needs_background": "light"
          }
        }
      ]
    }
  ]
}