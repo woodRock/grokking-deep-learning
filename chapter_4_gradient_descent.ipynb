{
  "nbformat": 4,
  "nbformat_minor": 0,
  "metadata": {
    "colab": {
      "name": "chapter-4-gradient-descent.ipynb",
      "provenance": [],
      "collapsed_sections": [],
      "authorship_tag": "ABX9TyPIo08FleyzDruL8kHQXhyF",
      "include_colab_link": true
    },
    "kernelspec": {
      "name": "python3",
      "display_name": "Python 3"
    },
    "language_info": {
      "name": "python"
    }
  },
  "cells": [
    {
      "cell_type": "markdown",
      "metadata": {
        "id": "view-in-github",
        "colab_type": "text"
      },
      "source": [
        "<a href=\"https://colab.research.google.com/github/woodRock/grokking-deep-learning/blob/main/chapter_4_gradient_descent.ipynb\" target=\"_parent\"><img src=\"https://colab.research.google.com/assets/colab-badge.svg\" alt=\"Open In Colab\"/></a>"
      ]
    },
    {
      "cell_type": "markdown",
      "source": [
        "# Chapter 4 | Gradient Descent"
      ],
      "metadata": {
        "id": "pHt5KnW-2Pyv"
      }
    },
    {
      "cell_type": "markdown",
      "source": [
        "Error is a way to measure how much you missed. There are multiple ways to calculate this error, as you'll learn later. This one is mean squared error (MSE). Squaring forces the error to be positive - we want errors to always be positive so they don't accidentally cancel each other out when you average them. The $(.)^2$ operation in $MSE$ magnifies large errors and reduces small errors. "
      ],
      "metadata": {
        "id": "4YLm7oIF2WnI"
      }
    },
    {
      "cell_type": "code",
      "source": [
        "knob_weight = 0.5\n",
        "input = 0.5\n",
        "goal_pred = 0.8 \n",
        "\n",
        "pred = input * knob_weight \n",
        "error = (pred - goal_pred) ** 2 \n",
        "print(error)"
      ],
      "metadata": {
        "colab": {
          "base_uri": "https://localhost:8080/"
        },
        "id": "sQLNCL4rQNSE",
        "outputId": "ba0d144d-69d5-40cd-bb77-fe2e9b15b5a0"
      },
      "execution_count": 11,
      "outputs": [
        {
          "output_type": "stream",
          "name": "stdout",
          "text": [
            "0.30250000000000005\n"
          ]
        }
      ]
    },
    {
      "cell_type": "markdown",
      "source": [
        "## Hot and Cold Learning\n",
        "\n",
        "Hot and cold learning means wiggling the weights to see which direction reduces the error the most, moving the weights in that direction, and repeating until the error gets to 0."
      ],
      "metadata": {
        "id": "LIspE1ohJwlu"
      }
    },
    {
      "cell_type": "code",
      "source": [
        "epochs = 1101\n",
        "\n",
        "def neural_network(step_amount):\n",
        "    weight = 0.5\n",
        "    input = 0.5\n",
        "    goal_prediction = 0.8\n",
        "\n",
        "    err = []\n",
        "\n",
        "    for iteration in range(epochs): \n",
        "\n",
        "        prediction = input * weight \n",
        "        error = (prediction - goal_prediction) ** 2 \n",
        "        err.append(error)\n",
        "        if iteration == epochs:\n",
        "            print(f\"Error: {error} Prediction: {prediction}\")\n",
        "\n",
        "        up_prediction = input * (weight + step_amount)\n",
        "        up_error = (goal_prediction - up_prediction) ** 2\n",
        "\n",
        "        down_prediction = input * (weight - step_amount)\n",
        "        down_error = (goal_prediction - down_prediction) ** 2\n",
        "\n",
        "        if (down_error < up_error):\n",
        "            weight = weight - step_amount\n",
        "        \n",
        "        if (down_error > up_error):\n",
        "            weight = weight + step_amount\n",
        "\n",
        "    return err \n",
        "\n",
        "steps = [0.001, 0.002, 0.003, 0.004]\n",
        "errors = {\"0.001\": [], \"0.002\": [], \"0.003\": [], \"0.004\": []}\n",
        "\n",
        "for step in steps: \n",
        "    errors[str(step)] = neural_network(step)\n",
        "\n",
        "import matplotlib.pyplot as plt\n",
        "\n",
        "for step, error in errors.items():\n",
        "    print(step)\n",
        "    plt.plot(error, label=f\"lr={step}\")\n",
        "\n",
        "plt.title(\"Mean Squared Error (MSE)\")\n",
        "plt.xlabel(\"Epoch\")\n",
        "plt.ylabel(\"Error\")\n",
        "plt.legend()"
      ],
      "metadata": {
        "colab": {
          "base_uri": "https://localhost:8080/",
          "height": 382
        },
        "id": "-e_Xmyt7JqAK",
        "outputId": "9473c425-7f31-4382-c5f8-5b237aaa9790"
      },
      "execution_count": 18,
      "outputs": [
        {
          "output_type": "stream",
          "name": "stdout",
          "text": [
            "0.001\n",
            "0.002\n",
            "0.003\n",
            "0.004\n"
          ]
        },
        {
          "output_type": "execute_result",
          "data": {
            "text/plain": [
              "<matplotlib.legend.Legend at 0x7f71a4a107d0>"
            ]
          },
          "metadata": {},
          "execution_count": 18
        },
        {
          "output_type": "display_data",
          "data": {
            "text/plain": [
              "<Figure size 432x288 with 1 Axes>"
            ],
            "image/png": "[encoded data removed]"
          },
          "metadata": {
            "needs_background": "light"
          }
        }
      ]
    },
    {
      "cell_type": "markdown",
      "source": [
        "## Error as a Vector | Both Direction and Amount of Error\n",
        "\n",
        "A vector $\\vec{v}$ has direction $\\theta$ and magnitude $|\\vec{v}|$. If we scale our weight change to be proportionate to the error, by making an error a vector with direction and magnitude, the network converges with 1101 (hot and cold) / 20 (vector) = 1.8% of the epochs of the hot and cold method.\n",
        "\n",
        "The pure error $\\hat{y} - y$ is multiplied by the input $x$, this performs scaling, negative reversal, and stopping, transforming the pure error into the weight update $\\Delta \\beta$.\n",
        "\n",
        "Where: \n",
        "- pure error $\\hat{y} - y$ indicates the raw direction and amount you missed. \n",
        "- stopping - If the input is 0, you don't learn anything. \n",
        "- negative reversal - The negative reversal ensures the weight moves in the correct direction, even for negative inputs. \n",
        "- scaling - big inputs, correspond to big weights.\n",
        "    "
      ],
      "metadata": {
        "id": "x9ZgF3WaPzq6"
      }
    },
    {
      "cell_type": "code",
      "source": [
        "epochs = 20\n",
        "\n",
        "def neural_network():\n",
        "    weight = 0.5\n",
        "    input = 0.5\n",
        "    goal_prediction = 0.8\n",
        "\n",
        "    err = []\n",
        "\n",
        "    for iteration in range(epochs): \n",
        "\n",
        "        prediction = input * weight \n",
        "        error = (prediction - goal_prediction) ** 2 \n",
        "        # Scaling, negative reversal, and stopping.\n",
        "        direction_and_amount = (prediction - goal_prediction) * input \n",
        "        weight = weight - direction_and_amount\n",
        "        \n",
        "        err.append(error)\n",
        "        if iteration == epochs:\n",
        "            print(f\"Error: {error} Prediction: {prediction}\")\n",
        "\n",
        "\n",
        "    return err \n",
        " \n",
        "error = neural_network()\n",
        "\n",
        "import matplotlib.pyplot as plt\n",
        "\n",
        "plt.plot(error)\n",
        "plt.title(\"Mean Squared Error (MSE)\")\n",
        "plt.xlabel(\"Epoch\")\n",
        "plt.ylabel(\"Error\")\n",
        "plt.legend()"
      ],
      "metadata": {
        "colab": {
          "base_uri": "https://localhost:8080/",
          "height": 330
        },
        "id": "JynlDATaPyq_",
        "outputId": "9b226c17-0206-4c69-8c89-b51172b59579"
      },
      "execution_count": 23,
      "outputs": [
        {
          "output_type": "stream",
          "name": "stderr",
          "text": [
            "WARNING:matplotlib.legend:No handles with labels found to put in legend.\n"
          ]
        },
        {
          "output_type": "execute_result",
          "data": {
            "text/plain": [
              "<matplotlib.legend.Legend at 0x7f71a4997e90>"
            ]
          },
          "metadata": {},
          "execution_count": 23
        },
        {
          "output_type": "display_data",
          "data": {
            "text/plain": [
              "<Figure size 432x288 with 1 Axes>"
            ],
            "image/png": "[encoded data removed]"
          },
          "metadata": {
            "needs_background": "light"
          }
        }
      ]
    },
    {
      "cell_type": "markdown",
      "source": [
        "For any input and output, an exact relationshipis defined between error and weight, foudn by combining the prediction and error formulas. In this case: \n",
        "\n",
        "$ error = ((0.5 * weight) - 0.8)^2 $\n",
        "$ error = ((input * weight) - goal)^2$ \n",
        "\n",
        "Alpha $\\alpha$ is the learning rate, this determines the speed at which the neuron learns. "
      ],
      "metadata": {
        "id": "4Kco-QR0Wa7V"
      }
    },
    {
      "cell_type": "code",
      "source": [
        "weight, goal_pred, input = (0.5, 0.8, 2)\n",
        "\n",
        "for alpha in [0.05, 0.1, 1]:\n",
        "    errors = []\n",
        "    for iteration in range(100):\n",
        "        pred = input * weight \n",
        "        error = (pred - goal_pred) ** 2\n",
        "        delta = pred - goal_pred \n",
        "        weight_delta = delta * input\n",
        "        weight -= alpha * weight_delta\n",
        "        \n",
        "        if iteration == 100: \n",
        "            print(f\"Error: {error} Prediction {pred}\")\n",
        "        errors.append(error)\n",
        "    plt.plot(errors, label=f\"lr={alpha}\")\n",
        "\n",
        "plt.title(\"Mean Squared Error (MSE)\")\n",
        "plt.xlabel(\"Epochs\")\n",
        "plt.ylabel(\"Error\")\n",
        "plt.legend()"
      ],
      "metadata": {
        "colab": {
          "base_uri": "https://localhost:8080/",
          "height": 312
        },
        "id": "TwXm915xWbNw",
        "outputId": "786e3a0b-b540-4788-d333-894a2635a2ea"
      },
      "execution_count": 57,
      "outputs": [
        {
          "output_type": "execute_result",
          "data": {
            "text/plain": [
              "<matplotlib.legend.Legend at 0x7f719ae413d0>"
            ]
          },
          "metadata": {},
          "execution_count": 57
        },
        {
          "output_type": "display_data",
          "data": {
            "text/plain": [
              "<Figure size 432x288 with 1 Axes>"
            ],
            "image/png": "[encoded data removed]"
          },
          "metadata": {
            "needs_background": "light"
          }
        }
      ]
    },
    {
      "cell_type": "markdown",
      "source": [
        "\"A neural network is really just one thing: a bunch of weights you use to compute an error function.\" (Trask 2019)\n",
        "\n",
        "And for any error function, you can compute the relationship between any weight and the final error of the network. With this information you can change any weight to reduce the error to 0.\n",
        "\n",
        "A _derivitive_ is the relationship between two variables in a function so you can know how much one changes when you change the other.\n",
        "\n",
        "You can take each weight, calculate its derivitive with respect to the error, and then change weight in the opposite direction of that slope. That will move you towards a minimum."
      ],
      "metadata": {
        "id": "LFjNxLnzgpgz"
      }
    },
    {
      "cell_type": "markdown",
      "source": [
        "# Divergence \n",
        "\n",
        "Sometimes neural networks explode in value. For example, If we set the input to 2, and weight to 0.5, the network breaks. \n",
        "\n",
        "Sometimes the input is too large, which makes the weight updates too large. The network overcorrects, and cannot find a small error. This causes a phenomenon called _divergence_. When the derivitive is really big, and the error is small, we get divergence. This results in overcorrections, that produce a larger derivitive, which is a runaway freight train. \n",
        "\n",
        "We employ alpha $\\alpha$, the learning rate, to counteract divergence. This is a coefficient value between 0 and 1, that controls the rate at which the network learns. Even state-of-the-art neural networks determine $\\alpha$ with black magic (guessing). A good starting point is $\\alpha = 1\\times10^-3$. "
      ],
      "metadata": {
        "id": "5_s4jHjOjv0c"
      }
    }
  ]
}