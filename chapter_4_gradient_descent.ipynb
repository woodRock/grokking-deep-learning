{
  "nbformat": 4,
  "nbformat_minor": 0,
  "metadata": {
    "colab": {
      "provenance": [],
      "authorship_tag": "ABX9TyM1msls628CjUb0Ai0GnNHG",
      "include_colab_link": true
    },
    "kernelspec": {
      "name": "python3",
      "display_name": "Python 3"
    },
    "language_info": {
      "name": "python"
    }
  },
  "cells": [
    {
      "cell_type": "markdown",
      "metadata": {
        "id": "view-in-github",
        "colab_type": "text"
      },
      "source": [
        "<a href=\"https://colab.research.google.com/github/woodRock/grokking-deep-learning/blob/main/chapter_4_gradient_descent.ipynb\" target=\"_parent\"><img src=\"https://colab.research.google.com/assets/colab-badge.svg\" alt=\"Open In Colab\"/></a>"
      ]
    },
    {
      "cell_type": "markdown",
      "source": [
        "# Chapter 4 | Gradient Descent"
      ],
      "metadata": {
        "id": "pHt5KnW-2Pyv"
      }
    },
    {
      "cell_type": "markdown",
      "source": [
        "We can think of a neural network as a bunch of knobs (parameters), some sensory infomraiton (input), and a prediction (output). The purpose of the network is to take an input, feed it through the parameters, and produce a prediction. There exists a desired output $y$, the real-world value we wish to predict. The the network gives a prediction $\\hat{y}$, that aims to approximate that real-world value. Error measures the distance between the desired output $y$, and the newtworks predictiosn $\\hat{y}$.\n",
        "\n",
        "Error is a way to measure how much you missed. There are multiple ways to calculate this error, as you'll learn later. This one is mean squared error (MSE). Squaring forces the error to be positive - we want errors to always be positive so they don't accidentally cancel each other out when you average them. The $(.)^2$ operation in $MSE$ magnifies large errors and reduces small errors.\n",
        "\n",
        "For a single instance, this is the loss function:\n",
        "\n",
        "$ MSE = |y - \\hat{y}|^2 $\n",
        "\n",
        "Over a set of instances, this gives the cost function:\n",
        "\n",
        "$ MSE = \\frac{1}{|T|} \\sum_{i \\in T} |y_i - \\hat{y_i}|^2 $\n"
      ],
      "metadata": {
        "id": "4YLm7oIF2WnI"
      }
    },
    {
      "cell_type": "code",
      "source": [
        "# Parameters are a bunch of knobs.\n",
        "knob_weight = 0.5\n",
        "# Inputs are sensory data.\n",
        "input = 0.5\n",
        "# Goals are the desired output.\n",
        "goal_pred = 0.8 \n",
        "\n",
        "# Prediction for neuron is product of input and parameters. \n",
        "pred = input * knob_weight \n",
        "error = (pred - goal_pred) ** 2 \n",
        "print(f\"Goal: {goal_pred}, prediction: {pred}, error (MSE): {error}\")"
      ],
      "metadata": {
        "colab": {
          "base_uri": "https://localhost:8080/"
        },
        "id": "sQLNCL4rQNSE",
        "outputId": "e7ca216d-4bfa-4987-f5e8-49671bc70b34"
      },
      "execution_count": 34,
      "outputs": [
        {
          "output_type": "stream",
          "name": "stdout",
          "text": [
            "Goal: 0.8, prediction: 0.25, error (MSE): 0.30250000000000005\n"
          ]
        }
      ]
    },
    {
      "cell_type": "markdown",
      "source": [
        "## Hot and Cold Learning\n",
        "\n",
        "Hot and cold learning means wiggling the weights to see which direction reduces the error the most, moving the weights in that direction, and repeating until the error gets to 0. \n",
        "\n",
        "Hot and cold learning is a naive approach with limitations, those are its very ineffecient, and sometimes impossible to predict the desired output. Firstly, It is inefficient because the network has tomake multiple predictions to update a single parameter. Secondly, with fixed _step_amount_ unless the perfect _weight_ is excatly $n*$_step_amount_ away, the network will eventually overshoot by some number less than _step_amount_. \n",
        "\n",
        "For example, set the _step_amount_ to 10, to see the second limitation in actions. When we try this, the network never comes close to the desired output (goal) of 0.8. When fiddling with the step amount, we see any learning rate $\\alpha \\ge 0.2$ breaks the network."
      ],
      "metadata": {
        "id": "LIspE1ohJwlu"
      }
    },
    {
      "cell_type": "code",
      "source": [
        "# User input, \n",
        "step_amount = 0.2 #@param {type: \"float\"} {allow-input: true}\n",
        "\n",
        "# The maximum number of iterations to train the neuron for.\n",
        "epochs = 1101\n",
        "errors = []\n",
        "\n",
        "# Input (sensory information)\n",
        "input = 0.5\n",
        "# Weight (knob)\n",
        "weight = 0.5\n",
        "# Output (desired prediction)\n",
        "goal_prediction = 0.8\n",
        "\n",
        "for iteration in range(epochs): \n",
        "    # For neuron, prediction is product of input and weight.\n",
        "    prediction = input * weight \n",
        "    # Error is Mean Squared Error (MSE).\n",
        "    error = (prediction - goal_prediction) ** 2 \n",
        "    errors.append(error)\n",
        "\n",
        "    # Each 100 epochs, print the error and prediction.\n",
        "    if iteration % 100 == 0:\n",
        "        print(f\"Error: {error} Prediction: {prediction}\")\n",
        "    \n",
        "    # Inefficient: two predictions are calcuated, i.e. up and down. \n",
        "    up_prediction = input * (weight + step_amount)\n",
        "    up_error = (goal_prediction - up_prediction) ** 2\n",
        "    down_prediction = input * (weight - step_amount)\n",
        "    down_error = (goal_prediction - down_prediction) ** 2\n",
        "\n",
        "    # Weight update is +/- step_amount by if up/down has less error.\n",
        "    weight_update = - step_amount if (down_error < up_error) else step_amount\n",
        "    # Update the weight.\n",
        "    weight += weight_update\n",
        "\n",
        "#  Plot the error curve for visualization.\n",
        "import matplotlib.pyplot as plt\n",
        "plt.plot(errors, label=f\"learning rate (α) = {step_amount}\")\n",
        "plt.title(\"Mean Squared Error (MSE)\")\n",
        "plt.xlabel(\"Epoch\")\n",
        "plt.ylabel(\"Error\")\n",
        "plt.legend()"
      ],
      "metadata": {
        "colab": {
          "base_uri": "https://localhost:8080/",
          "height": 521
        },
        "id": "-e_Xmyt7JqAK",
        "outputId": "483f9a44-6009-4767-c01b-3f6e75158b2d"
      },
      "execution_count": 58,
      "outputs": [
        {
          "output_type": "stream",
          "name": "stdout",
          "text": [
            "Error: 0.30250000000000005 Prediction: 0.25\n",
            "Error: 0.0024999999999999823 Prediction: 0.8499999999999999\n",
            "Error: 0.0024999999999999823 Prediction: 0.8499999999999999\n",
            "Error: 0.0024999999999999823 Prediction: 0.8499999999999999\n",
            "Error: 0.0024999999999999823 Prediction: 0.8499999999999999\n",
            "Error: 0.0024999999999999823 Prediction: 0.8499999999999999\n",
            "Error: 0.0024999999999999823 Prediction: 0.8499999999999999\n",
            "Error: 0.0024999999999999823 Prediction: 0.8499999999999999\n",
            "Error: 0.0024999999999999823 Prediction: 0.8499999999999999\n",
            "Error: 0.0024999999999999823 Prediction: 0.8499999999999999\n",
            "Error: 0.0024999999999999823 Prediction: 0.8499999999999999\n",
            "Error: 0.0024999999999999823 Prediction: 0.8499999999999999\n"
          ]
        },
        {
          "output_type": "execute_result",
          "data": {
            "text/plain": [
              "<matplotlib.legend.Legend at 0x7fe512e38f50>"
            ]
          },
          "metadata": {},
          "execution_count": 58
        },
        {
          "output_type": "display_data",
          "data": {
            "text/plain": [
              "<Figure size 432x288 with 1 Axes>"
            ],
            "image/png": "[encoded data removed]"
          },
          "metadata": {
            "needs_background": "light"
          }
        }
      ]
    },
    {
      "cell_type": "markdown",
      "source": [
        "## Error as a Vector | Both Direction and Amount of Error\n",
        "\n",
        "A vector $\\vec{v}$ has direction $\\theta$ and magnitude $|\\vec{v}|$. If we scale our weight change to be proportionate to the error, by making an error a vector with direction and magnitude, the network converges with 1101 (hot and cold) / 20 (vector) = 1.8% of the epochs of the hot and cold method.\n",
        "\n",
        "The pure error $\\hat{y} - y$ is multiplied by the input $x$, this performs scaling, negative reversal, and stopping, transforming the pure error into the weight update $\\Delta \\beta$.\n",
        "\n",
        "Where: \n",
        "- pure error $\\hat{y} - y$ indicates the raw direction and amount you missed. \n",
        "- stopping - If the input is 0, you don't learn anything. \n",
        "- negative reversal - The negative reversal ensures the weight moves in the correct direction, even for negative inputs. \n",
        "- scaling - big inputs, correspond to big weights.\n",
        "    "
      ],
      "metadata": {
        "id": "x9ZgF3WaPzq6"
      }
    },
    {
      "cell_type": "code",
      "source": [
        "# This code snippet performs gradient desent on a single neuron for 20 iterations.\n",
        "\n",
        "epochs = 20\n",
        "input = 0.5\n",
        "weight = 0.5\n",
        "goal_prediction = 0.8\n",
        "errors = []\n",
        "\n",
        "# Perform gradient descent for a neuron for 20 epochs.\n",
        "for iteration in range(epochs): \n",
        "    # For a neuron, the prediction is the product of input and weight.\n",
        "    prediction = input * weight \n",
        "    error = (prediction - goal_prediction) ** 2\n",
        "    # The pure error multiplied by input gives us the weight update.\n",
        "    # Multiplying by input performs scaling, negative reversal and stopping.\n",
        "    direction_and_amount = (prediction - goal_prediction) * input\n",
        "    # Update the weight.\n",
        "    weight = weight - direction_and_amount\n",
        "    errors.append(error)\n",
        "\n",
        "    if iteration == epochs - 1:\n",
        "        print(f\"Error: {error} Prediction: {prediction}\")\n",
        "\n",
        "# Here we MSE to show the neuron learning, \"reducing error\", over 20 training epochs.\n",
        "import matplotlib.pyplot as plt\n",
        "\n",
        "plt.plot(errors)\n",
        "plt.title(\"Mean Squared Error (MSE)\")\n",
        "plt.xlabel(\"Epoch\")\n",
        "plt.ylabel(\"Error\")\n",
        "plt.legend()"
      ],
      "metadata": {
        "colab": {
          "base_uri": "https://localhost:8080/",
          "height": 350
        },
        "id": "JynlDATaPyq_",
        "outputId": "ab2c9d12-bd3e-477b-cb56-bf4c3a92bd4a"
      },
      "execution_count": null,
      "outputs": [
        {
          "output_type": "stream",
          "name": "stderr",
          "text": [
            "No handles with labels found to put in legend.\n"
          ]
        },
        {
          "output_type": "stream",
          "name": "stdout",
          "text": [
            "Error: 5.408208020258491e-06 Prediction: 0.7976744445781151\n"
          ]
        },
        {
          "output_type": "execute_result",
          "data": {
            "text/plain": [
              "<matplotlib.legend.Legend at 0x7f207a3a1590>"
            ]
          },
          "metadata": {},
          "execution_count": 3
        },
        {
          "output_type": "display_data",
          "data": {
            "text/plain": [
              "<Figure size 432x288 with 1 Axes>"
            ],
            "image/png": "[encoded data removed]"
          },
          "metadata": {
            "needs_background": "light"
          }
        }
      ]
    },
    {
      "cell_type": "markdown",
      "source": [
        "For any input and output, an exact relationshipis defined between error and weight, foudn by combining the prediction and error formulas. In this case: \n",
        "\n",
        "$ error = ((0.5 * weight) - 0.8)^2 $\n",
        "\n",
        "$ error = ((input * weight) - goal)^2$ \n",
        "\n",
        "Alpha $\\alpha$ is the learning rate, this determines the speed at which the neuron learns. "
      ],
      "metadata": {
        "id": "4Kco-QR0Wa7V"
      }
    },
    {
      "cell_type": "code",
      "source": [
        "weight, goal_pred, input = (0.5, 0.8, 2)\n",
        "errors = []\n",
        "\n",
        "for iteration in range(100):\n",
        "    pred = input * weight \n",
        "    error = (pred - goal_pred) ** 2\n",
        "    delta = pred - goal_pred \n",
        "    weight_delta = delta * input\n",
        "    weight -=  weight_delta\n",
        "    \n",
        "    if iteration == 100: \n",
        "        print(f\"Error: {error} Prediction {pred}\")\n",
        "    errors.append(error)\n",
        "\n",
        "plt.plot(errors, label=f\"lr={1}\")\n",
        "plt.title(\"Divergence | Mean Squared Error (MSE)\")\n",
        "plt.xlabel(\"Epochs\")\n",
        "plt.ylabel(\"Error\")\n",
        "plt.legend()"
      ],
      "metadata": {
        "colab": {
          "base_uri": "https://localhost:8080/",
          "height": 313
        },
        "id": "TwXm915xWbNw",
        "outputId": "9f07ad0a-9a1c-45aa-d43a-13b7569742e9"
      },
      "execution_count": null,
      "outputs": [
        {
          "output_type": "execute_result",
          "data": {
            "text/plain": [
              "<matplotlib.legend.Legend at 0x7f207a41ead0>"
            ]
          },
          "metadata": {},
          "execution_count": 4
        },
        {
          "output_type": "display_data",
          "data": {
            "text/plain": [
              "<Figure size 432x288 with 1 Axes>"
            ],
            "image/png": "[encoded data removed]"
          },
          "metadata": {
            "needs_background": "light"
          }
        }
      ]
    },
    {
      "cell_type": "markdown",
      "source": [
        "\"A neural network is really just one thing: a bunch of weights you use to compute an error function.\" (Trask 2019)\n",
        "\n",
        "And for any error function, you can compute the relationship between any weight and the final error of the network. With this information you can change any weight to reduce the error to 0.\n",
        "\n",
        "A _derivitive_ is the relationship between two variables in a function so you can know how much one changes when you change the other.\n",
        "\n",
        "You can take each weight, calculate its derivitive with respect to the error, and then change weight in the opposite direction of that slope. That will move you towards a minimum."
      ],
      "metadata": {
        "id": "LFjNxLnzgpgz"
      }
    },
    {
      "cell_type": "markdown",
      "source": [
        "# Divergence \n",
        "\n",
        "Sometimes neural networks explode in value. For example, If we set the input to 2, and weight to 0.5, the network breaks. \n",
        "\n",
        "Sometimes the input is too large, which makes the weight updates too large. The network overcorrects, and cannot find a small error. This causes a phenomenon called _divergence_. When the derivitive is really big, and the error is small, we get divergence. This results in overcorrections, that produce a larger derivitive, which is a runaway freight train. \n",
        "\n",
        "We employ alpha $\\alpha$, the learning rate, to counteract divergence. This is a coefficient value between 0 and 1, that controls the rate at which the network learns. Even state-of-the-art neural networks determine $\\alpha$ with black magic (guessing). A good starting point is $\\alpha = 1\\times10^-3$. "
      ],
      "metadata": {
        "id": "5_s4jHjOjv0c"
      }
    },
    {
      "cell_type": "code",
      "source": [
        "# User input\n",
        "input= 2 #@param {type: \"float\"} {allow-input: true}\n",
        "weight = 0.5 #@param {type: \"float\"} {allow-input: true}\n",
        "goal_pred = 0.8 #@param {type: \"float\"} {allow-input: true}\n",
        "alpha = 1 *  10E-3 #@param {type: \"float\"} {allow-input: true}\n",
        "\n",
        "# Keep track of errors over training epochs.\n",
        "errors = []\n",
        "\n",
        "for iteration in range(100):\n",
        "    pred = input * weight \n",
        "    error = (pred - goal_pred) ** 2\n",
        "    delta = pred - goal_pred \n",
        "    weight_delta = delta * input\n",
        "    weight -= alpha * weight_delta\n",
        "    \n",
        "    if iteration == 100: \n",
        "        print(f\"Error: {error} Prediction {pred}\")\n",
        "    errors.append(error)\n",
        "\n",
        "plt.plot(errors, label=f\"lr={alpha}\")\n",
        "plt.title(\"Non-divergence | Mean Squared Error (MSE)\")\n",
        "plt.xlabel(\"Epochs\")\n",
        "plt.ylabel(\"Error\")\n",
        "plt.legend()"
      ],
      "metadata": {
        "colab": {
          "base_uri": "https://localhost:8080/",
          "height": 312
        },
        "id": "nBL-01Sw-FVJ",
        "outputId": "7abe3e0c-1a2d-4017-f7df-91eafe0aea1b"
      },
      "execution_count": 62,
      "outputs": [
        {
          "output_type": "execute_result",
          "data": {
            "text/plain": [
              "<matplotlib.legend.Legend at 0x7fe512c96f10>"
            ]
          },
          "metadata": {},
          "execution_count": 62
        },
        {
          "output_type": "display_data",
          "data": {
            "text/plain": [
              "<Figure size 432x288 with 1 Axes>"
            ],
            "image/png": "[encoded data removed]"
          },
          "metadata": {
            "needs_background": "light"
          }
        }
      ]
    }
  ]
}