{
  "nbformat": 4,
  "nbformat_minor": 0,
  "metadata": {
    "colab": {
      "name": "chapter-3-forward-propagation.ipynb",
      "provenance": [],
      "collapsed_sections": [],
      "authorship_tag": "ABX9TyM2N3u5vGZTpiMNzdJKuzvH",
      "include_colab_link": true
    },
    "kernelspec": {
      "name": "python3",
      "display_name": "Python 3"
    },
    "language_info": {
      "name": "python"
    }
  },
  "cells": [
    {
      "cell_type": "markdown",
      "metadata": {
        "id": "view-in-github",
        "colab_type": "text"
      },
      "source": [
        "<a href=\"https://colab.research.google.com/github/woodRock/grokking-deep-learning/blob/main/chapter_3_forward_propagation.ipynb\" target=\"_parent\"><img src=\"https://colab.research.google.com/assets/colab-badge.svg\" alt=\"Open In Colab\"/></a>"
      ]
    },
    {
      "cell_type": "markdown",
      "source": [
        "# Chapter 3 | Forward Propagation"
      ],
      "metadata": {
        "id": "SYZAd_cYIQGg"
      }
    },
    {
      "cell_type": "markdown",
      "source": [
        "## First Neural Network"
      ],
      "metadata": {
        "id": "iWNZdpYFMJuM"
      }
    },
    {
      "cell_type": "code",
      "execution_count": null,
      "metadata": {
        "colab": {
          "base_uri": "https://localhost:8080/"
        },
        "id": "EKR8f_A5D4OL",
        "outputId": "93dc275e-ae62-47cc-9c4e-c84e36aa84ef"
      },
      "outputs": [
        {
          "output_type": "stream",
          "name": "stdout",
          "text": [
            "0.8500000000000001\n"
          ]
        }
      ],
      "source": [
        "weight = 0.1\n",
        "\n",
        "def neural_network(input, weight):\n",
        "    prediction = input * weight \n",
        "    return prediction \n",
        "\n",
        "number_of_toes = [8.5, 9.5, 10, 9]\n",
        "input = number_of_toes[0]\n",
        "pred = neural_network(input,weight)\n",
        "print(pred)"
      ]
    },
    {
      "cell_type": "markdown",
      "source": [
        "## Vector Math"
      ],
      "metadata": {
        "id": "3FXp_vYtIJpn"
      }
    },
    {
      "cell_type": "code",
      "source": [
        "def elementwise_multiplication(vec_a, vec_b): \n",
        "    return [i*j for i,j in zip(vec_a, vec_b)]\n",
        "\n",
        "\n",
        "def elementwise_addition(vec_a, vec_b):\n",
        "    \"\"\" Elementwise addition of two vectors.\"\"\"\n",
        "    return [i+j for i,j in zip(vec_a,vec_b)]\n",
        "\n",
        "\n",
        "def vector_sum(vec_a):\n",
        "    \"\"\" The sum of a vector.\"\"\" \n",
        "    return sum(vec_a)\n",
        "\n",
        "\n",
        "def vector_average(vec_a): \n",
        "    \"\"\" The average value of a vector.\"\"\"\n",
        "    n = len(vec_a)\n",
        "    return vector_sum(vec_a) / n\n",
        "\n",
        "\n",
        "def vector_dot_product(vec_a, vec_b):\n",
        "    \"\"\" The sum of the elementwise multiplication of two vectors.\"\"\"\n",
        "    return vector_sum(elementwise_multiplication(vec_a, vec_b))\n",
        "\n",
        "# Unit tests for the functions defined about. \n",
        "assert elementwise_multiplication([1,2],[1,1]) == [1,2]\n",
        "assert elementwise_addition([1,1],[1,1]) == [2,2]\n",
        "assert vector_sum([1,2,3]) == 6\n",
        "assert vector_average([1,1,1]) == 1\n",
        "assert vector_dot_product([1,1,1], [2,2,2]) == 6"
      ],
      "metadata": {
        "id": "7gON483CIJAl"
      },
      "execution_count": 10,
      "outputs": []
    },
    {
      "cell_type": "markdown",
      "source": [
        "## Multiple Inputs | Crude"
      ],
      "metadata": {
        "id": "4KNdxpqcMNyd"
      }
    },
    {
      "cell_type": "code",
      "source": [
        "def w_sum(a,b):\n",
        "    \"\"\" The weighted sum of two vectors. \"\"\"\n",
        "    assert(len(a) == len(b))\n",
        "    return sum([a[i] * b[i] for i in range(len(a))])\n",
        "\n",
        "weights = [0.1, 0.2, 0]\n",
        "\n",
        "def neural_network(inputs, weights):\n",
        "    pred = w_sum(inputs, weights)\n",
        "    return pred \n",
        "\n",
        "toes = [8.5, 9.5, 9.9, 9.0]\n",
        "wlred = [0.65, 0.8, 0.8, 0.9]\n",
        "nfans = [1.2, 1.3, 0.5, 1.0]\n",
        "\n",
        "inputs = [toes[0], wlred[0], nfans[0]]\n",
        "pred = neural_network(inputs,weights)\n",
        "print(pred)"
      ],
      "metadata": {
        "colab": {
          "base_uri": "https://localhost:8080/"
        },
        "id": "K4b5OoqWMTJp",
        "outputId": "b1cc2512-9740-42d1-cbf6-218a79f2cf6a"
      },
      "execution_count": 17,
      "outputs": [
        {
          "output_type": "stream",
          "name": "stdout",
          "text": [
            "0.9800000000000001\n"
          ]
        }
      ]
    },
    {
      "cell_type": "markdown",
      "source": [
        "## Multiple Inpputs | NumPy"
      ],
      "metadata": {
        "id": "jbwZGkDKODLC"
      }
    },
    {
      "cell_type": "code",
      "source": [
        "import numpy as np \n",
        "\n",
        "weights = np.array([0.1, 0.2, 0])\n",
        "\n",
        "def neural_network(inputs, weights):\n",
        "    pred = inputs.dot(weights)\n",
        "    return pred \n",
        "\n",
        "toes = np.array([8.5, 9.5, 9.9, 9.0])\n",
        "wlred = np.array([0.65, 0.8, 0.8, 0.9])\n",
        "nfans = np.array([1.2, 1.3, 0.5, 1.0])\n",
        "\n",
        "inputs = np.array([toes[0], wlred[0], nfans[0]])\n",
        "pred = neural_network(inputs,weights)\n",
        "print(pred)"
      ],
      "metadata": {
        "colab": {
          "base_uri": "https://localhost:8080/"
        },
        "id": "tuK8DimYOCXW",
        "outputId": "4d32384d-0e4c-4f27-9074-874caeca03bd"
      },
      "execution_count": 20,
      "outputs": [
        {
          "output_type": "stream",
          "name": "stdout",
          "text": [
            "0.9800000000000001\n"
          ]
        }
      ]
    },
    {
      "cell_type": "markdown",
      "source": [
        "## Hidden Layers\n",
        "\n",
        "Neural networks can be stacked. You can take the output of one network and fet it as input into another network. This results in two consectuvie vector-matrix mulitplications. Layers added between the input and output layers are referred to as hidden layers. Hidden layers help a network learn patterns that are too cimplex for a single-weight matrix. "
      ],
      "metadata": {
        "id": "juSD9AfdQPza"
      }
    },
    {
      "cell_type": "code",
      "source": [
        "import numpy as np \n",
        "\n",
        "ih_wgt = np.array([\n",
        "                   [0.1, 0.2, -0.1],\n",
        "                   [-0.1, 0.1, 0.9],\n",
        "                   [0.1, 0.4, 0.1]\n",
        "                   ]).T \n",
        "\n",
        "hp_wgt = np.array([\n",
        "                   [0.3, 1.1, -0.3],\n",
        "                   [0.1, 0.2, 0.0],\n",
        "                   [0.0, 1.3, 0.1]\n",
        "]).T\n",
        "\n",
        "weights = [ih_wgt, hp_wgt]\n",
        "\n",
        "def neural_network(input, weights): \n",
        "    hidden = input.dot(weights[0])\n",
        "    pred = hidden.dot(weights[1])\n",
        "    return pred \n",
        "\n",
        "toes = np.array([8.5, 9.5, 9.9, 9.0])\n",
        "wlrec = np.array([0.65, 0.8, 0.8, 0.9])\n",
        "nfans = np.array([1.2, 1.3, 0.5, 1.0])\n",
        "\n",
        "input = np.array([[toes[0], wlrec[0], nfans[0]]])\n",
        "pred = neural_network(input,weights)\n",
        "print(pred)"
      ],
      "metadata": {
        "colab": {
          "base_uri": "https://localhost:8080/"
        },
        "id": "sQLNCL4rQNSE",
        "outputId": "76d61875-cf95-4bb7-b176-2f6d108b5b58"
      },
      "execution_count": 22,
      "outputs": [
        {
          "output_type": "stream",
          "name": "stdout",
          "text": [
            "[[0.2135 0.145  0.5065]]\n"
          ]
        }
      ]
    },
    {
      "cell_type": "markdown",
      "source": [
        "## Numpy Primer"
      ],
      "metadata": {
        "id": "g02Pao4bUXO9"
      }
    },
    {
      "cell_type": "code",
      "source": [
        "import numpy as np \n",
        "\n",
        "a = np.array([0,1,2,3]) # Vector \n",
        "b = np.array([4,5,6,7]) # Vector\n",
        "c = np.array([[0,1,2,3], \n",
        "              [4,5,6,7]]) # Matrix \n",
        "\n",
        "d = np.zeros((2,4)) # 2x4 matrix of zeros. \n",
        "e = np.random.rand(2,5) # Random 2x5 matrix of numbers between 0 and 1 \n",
        "\n",
        "# print(a)\n",
        "# print(b)\n",
        "# print(c)\n",
        "# print(d)\n",
        "# print(e)\n",
        "\n",
        "print(a * 0.1) # Multiplies ever number in vector by 0.1  \n",
        "print(c * 0.1) # Multiplies every number in matrix c by 0.1 \n",
        "print(a * b) # Multiplies elementwise between a and b (columns paired). \n",
        "print(a * b * 0.1) # Multiplies elementwise, then by 0.2\n",
        "print(a * c) # Performs elementwise multiplication on every row of matrix c, because c has the same number of columns as a. \n",
        "print(a * e) # Throws an error, because a and e don't have the same number of columns. "
      ],
      "metadata": {
        "colab": {
          "base_uri": "https://localhost:8080/",
          "height": 321
        },
        "id": "R2-E3XwQUhiS",
        "outputId": "70bfc789-425e-4b2f-8673-7ebc10bee68a"
      },
      "execution_count": 31,
      "outputs": [
        {
          "output_type": "stream",
          "name": "stdout",
          "text": [
            "[0.  0.1 0.2 0.3]\n",
            "[[0.  0.1 0.2 0.3]\n",
            " [0.4 0.5 0.6 0.7]]\n",
            "[ 0  5 12 21]\n",
            "[0.  0.5 1.2 2.1]\n",
            "[[ 0  1  4  9]\n",
            " [ 0  5 12 21]]\n"
          ]
        },
        {
          "output_type": "error",
          "ename": "ValueError",
          "evalue": "ignored",
          "traceback": [
            "\u001b[0;31m---------------------------------------------------------------------------\u001b[0m",
            "\u001b[0;31mValueError\u001b[0m                                Traceback (most recent call last)",
            "\u001b[0;32m<ipython-input-31-a0d9a48bc482>\u001b[0m in \u001b[0;36m<module>\u001b[0;34m()\u001b[0m\n\u001b[1;32m     20\u001b[0m \u001b[0mprint\u001b[0m\u001b[0;34m(\u001b[0m\u001b[0ma\u001b[0m \u001b[0;34m*\u001b[0m \u001b[0mb\u001b[0m \u001b[0;34m*\u001b[0m \u001b[0;36m0.1\u001b[0m\u001b[0;34m)\u001b[0m \u001b[0;31m# Multiplies elementwise, then by 0.2\u001b[0m\u001b[0;34m\u001b[0m\u001b[0;34m\u001b[0m\u001b[0m\n\u001b[1;32m     21\u001b[0m \u001b[0mprint\u001b[0m\u001b[0;34m(\u001b[0m\u001b[0ma\u001b[0m \u001b[0;34m*\u001b[0m \u001b[0mc\u001b[0m\u001b[0;34m)\u001b[0m \u001b[0;31m# Performs elementwise multiplication on every row of matrix c, because c has the same number of columns as a.\u001b[0m\u001b[0;34m\u001b[0m\u001b[0;34m\u001b[0m\u001b[0m\n\u001b[0;32m---> 22\u001b[0;31m \u001b[0mprint\u001b[0m\u001b[0;34m(\u001b[0m\u001b[0ma\u001b[0m \u001b[0;34m*\u001b[0m \u001b[0me\u001b[0m\u001b[0;34m)\u001b[0m\u001b[0;34m\u001b[0m\u001b[0;34m\u001b[0m\u001b[0m\n\u001b[0m",
            "\u001b[0;31mValueError\u001b[0m: operands could not be broadcast together with shapes (4,) (2,5) "
          ]
        }
      ]
    },
    {
      "cell_type": "markdown",
      "source": [
        "There's on golden rule when using the `dot` function: if you put the `(rows,columns)` description of the two variables you're \"dotting\" next ot each other, neighbouring numbers should always be the same. In this case, you're dot-producing (1,4) with (4,3). It works fine and outputs (1,3). In order to perform matrix multiplication, between to matrices A and B, the columns of matrix A, must equal the rows of matrix B. This even applies to vectors as a matrix of shape (1,x), where x is the length of the vector. This allows us to multiply a vector by a matrix. "
      ],
      "metadata": {
        "id": "pYD9tqE1WoAV"
      }
    },
    {
      "cell_type": "code",
      "source": [
        "a = np.zeros((1,4))\n",
        "b = np.zeros((4,3))\n",
        "c = a.dot(b)\n",
        "print(c.shape)\n",
        "\n",
        "e = np.zeros((2,1))\n",
        "f = np.zeros((1,3))\n",
        "g = e.dot(f)\n",
        "print(g.shape)\n",
        "\n",
        "h = np.zeros((5,4)).T # T is the tranpose operator, this flips the rows and columns of a matrix. See (Goodfellow 2016) Linear Algebra for more rigirous mathematical definition. \n",
        "i = np.zeros((5,6))\n",
        "j = h.dot(i)\n",
        "print(j.shape)\n",
        "\n",
        "h = np.zeros((5,4)) # Without transpose columns of h != rows of i\n",
        "i = np.zeros((5,6))\n",
        "j = h.dot(i) # Throws an error\n",
        "print(j.shape) "
      ],
      "metadata": {
        "colab": {
          "base_uri": "https://localhost:8080/",
          "height": 269
        },
        "id": "5SsYpZXeW4UO",
        "outputId": "318c033c-7bb5-4b7d-f943-58218c211060"
      },
      "execution_count": 40,
      "outputs": [
        {
          "output_type": "stream",
          "name": "stdout",
          "text": [
            "(1, 3)\n",
            "(2, 3)\n",
            "(4, 6)\n"
          ]
        },
        {
          "output_type": "error",
          "ename": "ValueError",
          "evalue": "ignored",
          "traceback": [
            "\u001b[0;31m---------------------------------------------------------------------------\u001b[0m",
            "\u001b[0;31mValueError\u001b[0m                                Traceback (most recent call last)",
            "\u001b[0;32m<ipython-input-40-72014f43a9a8>\u001b[0m in \u001b[0;36m<module>\u001b[0;34m()\u001b[0m\n\u001b[1;32m     16\u001b[0m \u001b[0mh\u001b[0m \u001b[0;34m=\u001b[0m \u001b[0mnp\u001b[0m\u001b[0;34m.\u001b[0m\u001b[0mzeros\u001b[0m\u001b[0;34m(\u001b[0m\u001b[0;34m(\u001b[0m\u001b[0;36m5\u001b[0m\u001b[0;34m,\u001b[0m\u001b[0;36m4\u001b[0m\u001b[0;34m)\u001b[0m\u001b[0;34m)\u001b[0m \u001b[0;31m# Without transpose columns of h != rows of i\u001b[0m\u001b[0;34m\u001b[0m\u001b[0;34m\u001b[0m\u001b[0m\n\u001b[1;32m     17\u001b[0m \u001b[0mi\u001b[0m \u001b[0;34m=\u001b[0m \u001b[0mnp\u001b[0m\u001b[0;34m.\u001b[0m\u001b[0mzeros\u001b[0m\u001b[0;34m(\u001b[0m\u001b[0;34m(\u001b[0m\u001b[0;36m5\u001b[0m\u001b[0;34m,\u001b[0m\u001b[0;36m6\u001b[0m\u001b[0;34m)\u001b[0m\u001b[0;34m)\u001b[0m\u001b[0;34m\u001b[0m\u001b[0;34m\u001b[0m\u001b[0m\n\u001b[0;32m---> 18\u001b[0;31m \u001b[0mj\u001b[0m \u001b[0;34m=\u001b[0m \u001b[0mh\u001b[0m\u001b[0;34m.\u001b[0m\u001b[0mdot\u001b[0m\u001b[0;34m(\u001b[0m\u001b[0mi\u001b[0m\u001b[0;34m)\u001b[0m\u001b[0;34m\u001b[0m\u001b[0;34m\u001b[0m\u001b[0m\n\u001b[0m\u001b[1;32m     19\u001b[0m \u001b[0mprint\u001b[0m\u001b[0;34m(\u001b[0m\u001b[0mj\u001b[0m\u001b[0;34m.\u001b[0m\u001b[0mshape\u001b[0m\u001b[0;34m)\u001b[0m \u001b[0;31m# Throws an error\u001b[0m\u001b[0;34m\u001b[0m\u001b[0;34m\u001b[0m\u001b[0m\n",
            "\u001b[0;31mValueError\u001b[0m: shapes (5,4) and (5,6) not aligned: 4 (dim 1) != 5 (dim 0)"
          ]
        }
      ]
    }
  ]
}