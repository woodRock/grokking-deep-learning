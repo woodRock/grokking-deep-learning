{
  "nbformat": 4,
  "nbformat_minor": 0,
  "metadata": {
    "colab": {
      "name": "chapter-3-forward-propagation.ipynb",
      "provenance": [],
      "authorship_tag": "ABX9TyOAP0jzEfHcq5Fa8xK8+E5s",
      "include_colab_link": true
    },
    "kernelspec": {
      "name": "python3",
      "display_name": "Python 3"
    },
    "language_info": {
      "name": "python"
    }
  },
  "cells": [
    {
      "cell_type": "markdown",
      "metadata": {
        "id": "view-in-github",
        "colab_type": "text"
      },
      "source": [
        "<a href=\"https://colab.research.google.com/github/woodRock/grokking-deep-learning/blob/main/chapter_3_forward_propagation.ipynb\" target=\"_parent\"><img src=\"https://colab.research.google.com/assets/colab-badge.svg\" alt=\"Open In Colab\"/></a>"
      ]
    },
    {
      "cell_type": "code",
      "execution_count": null,
      "metadata": {
        "colab": {
          "base_uri": "https://localhost:8080/"
        },
        "id": "EKR8f_A5D4OL",
        "outputId": "93dc275e-ae62-47cc-9c4e-c84e36aa84ef"
      },
      "outputs": [
        {
          "output_type": "stream",
          "name": "stdout",
          "text": [
            "0.8500000000000001\n"
          ]
        }
      ],
      "source": [
        "import numpy as np \n",
        "\n",
        "weight = 0.1\n",
        "\n",
        "def neural_network(input, weight):\n",
        "    prediction = input * weight \n",
        "    return prediction \n",
        "\n",
        "number_of_toes = [8.5, 9.5, 10, 9]\n",
        "input = number_of_toes[0]\n",
        "pred = neural_network(input,weight)\n",
        "print(pred)"
      ]
    }
  ]
}